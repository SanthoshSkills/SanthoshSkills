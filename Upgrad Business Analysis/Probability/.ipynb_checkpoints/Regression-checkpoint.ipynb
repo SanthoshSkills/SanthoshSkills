{
 "cells": [
  {
   "cell_type": "code",
   "execution_count": 2,
   "id": "abd59211",
   "metadata": {},
   "outputs": [
    {
     "data": {
      "text/html": [
       "<div>\n",
       "<style scoped>\n",
       "    .dataframe tbody tr th:only-of-type {\n",
       "        vertical-align: middle;\n",
       "    }\n",
       "\n",
       "    .dataframe tbody tr th {\n",
       "        vertical-align: top;\n",
       "    }\n",
       "\n",
       "    .dataframe thead th {\n",
       "        text-align: right;\n",
       "    }\n",
       "</style>\n",
       "<table border=\"1\" class=\"dataframe\">\n",
       "  <thead>\n",
       "    <tr style=\"text-align: right;\">\n",
       "      <th></th>\n",
       "      <th>Sale Force Size\\n(In Thousand Employees)</th>\n",
       "      <th>Advertising Spends \\n(In Million Rs.)</th>\n",
       "      <th>Incentive \\n(In Million Rs)</th>\n",
       "      <th>Sales \\n(In Billion Rs.)</th>\n",
       "    </tr>\n",
       "  </thead>\n",
       "  <tbody>\n",
       "    <tr>\n",
       "      <th>0</th>\n",
       "      <td>11.73</td>\n",
       "      <td>35.96</td>\n",
       "      <td>3</td>\n",
       "      <td>2.9</td>\n",
       "    </tr>\n",
       "    <tr>\n",
       "      <th>1</th>\n",
       "      <td>13.75</td>\n",
       "      <td>30.55</td>\n",
       "      <td>4</td>\n",
       "      <td>3.0</td>\n",
       "    </tr>\n",
       "    <tr>\n",
       "      <th>2</th>\n",
       "      <td>14.20</td>\n",
       "      <td>65.25</td>\n",
       "      <td>8</td>\n",
       "      <td>4.8</td>\n",
       "    </tr>\n",
       "    <tr>\n",
       "      <th>3</th>\n",
       "      <td>12.45</td>\n",
       "      <td>23.78</td>\n",
       "      <td>2</td>\n",
       "      <td>1.8</td>\n",
       "    </tr>\n",
       "    <tr>\n",
       "      <th>4</th>\n",
       "      <td>8.73</td>\n",
       "      <td>50.42</td>\n",
       "      <td>2</td>\n",
       "      <td>2.9</td>\n",
       "    </tr>\n",
       "    <tr>\n",
       "      <th>5</th>\n",
       "      <td>11.23</td>\n",
       "      <td>74.75</td>\n",
       "      <td>7</td>\n",
       "      <td>4.9</td>\n",
       "    </tr>\n",
       "    <tr>\n",
       "      <th>6</th>\n",
       "      <td>15.05</td>\n",
       "      <td>50.80</td>\n",
       "      <td>6</td>\n",
       "      <td>4.2</td>\n",
       "    </tr>\n",
       "    <tr>\n",
       "      <th>7</th>\n",
       "      <td>13.20</td>\n",
       "      <td>75.52</td>\n",
       "      <td>8</td>\n",
       "      <td>4.8</td>\n",
       "    </tr>\n",
       "    <tr>\n",
       "      <th>8</th>\n",
       "      <td>14.10</td>\n",
       "      <td>55.37</td>\n",
       "      <td>4</td>\n",
       "      <td>4.4</td>\n",
       "    </tr>\n",
       "    <tr>\n",
       "      <th>9</th>\n",
       "      <td>10.13</td>\n",
       "      <td>50.68</td>\n",
       "      <td>6</td>\n",
       "      <td>4.5</td>\n",
       "    </tr>\n",
       "  </tbody>\n",
       "</table>\n",
       "</div>"
      ],
      "text/plain": [
       "   Sale Force Size\\n(In Thousand Employees)  \\\n",
       "0                                     11.73   \n",
       "1                                     13.75   \n",
       "2                                     14.20   \n",
       "3                                     12.45   \n",
       "4                                      8.73   \n",
       "5                                     11.23   \n",
       "6                                     15.05   \n",
       "7                                     13.20   \n",
       "8                                     14.10   \n",
       "9                                     10.13   \n",
       "\n",
       "   Advertising Spends \\n(In Million Rs.)  Incentive \\n(In Million Rs)  \\\n",
       "0                                  35.96                            3   \n",
       "1                                  30.55                            4   \n",
       "2                                  65.25                            8   \n",
       "3                                  23.78                            2   \n",
       "4                                  50.42                            2   \n",
       "5                                  74.75                            7   \n",
       "6                                  50.80                            6   \n",
       "7                                  75.52                            8   \n",
       "8                                  55.37                            4   \n",
       "9                                  50.68                            6   \n",
       "\n",
       "   Sales \\n(In Billion Rs.)  \n",
       "0                       2.9  \n",
       "1                       3.0  \n",
       "2                       4.8  \n",
       "3                       1.8  \n",
       "4                       2.9  \n",
       "5                       4.9  \n",
       "6                       4.2  \n",
       "7                       4.8  \n",
       "8                       4.4  \n",
       "9                       4.5  "
      ]
     },
     "execution_count": 2,
     "metadata": {},
     "output_type": "execute_result"
    }
   ],
   "source": [
    "import pandas as pd\n",
    "df = pd.read_excel('C:\\\\Users\\\\PrabhakaranS\\\\Downloads\\\\Module+3+Practice+Workbook.xlsx')\n",
    "df"
   ]
  },
  {
   "cell_type": "code",
   "execution_count": 5,
   "id": "e0deb325",
   "metadata": {},
   "outputs": [
    {
     "data": {
      "text/plain": [
       "array([[<AxesSubplot:xlabel='Sale Force Size\\n(In Thousand Employees)', ylabel='Sale Force Size\\n(In Thousand Employees)'>,\n",
       "        <AxesSubplot:xlabel='Advertising Spends \\n(In Million Rs.)', ylabel='Sale Force Size\\n(In Thousand Employees)'>,\n",
       "        <AxesSubplot:xlabel='Incentive \\n(In Million Rs)', ylabel='Sale Force Size\\n(In Thousand Employees)'>,\n",
       "        <AxesSubplot:xlabel='Sales \\n(In Billion Rs.)', ylabel='Sale Force Size\\n(In Thousand Employees)'>],\n",
       "       [<AxesSubplot:xlabel='Sale Force Size\\n(In Thousand Employees)', ylabel='Advertising Spends \\n(In Million Rs.)'>,\n",
       "        <AxesSubplot:xlabel='Advertising Spends \\n(In Million Rs.)', ylabel='Advertising Spends \\n(In Million Rs.)'>,\n",
       "        <AxesSubplot:xlabel='Incentive \\n(In Million Rs)', ylabel='Advertising Spends \\n(In Million Rs.)'>,\n",
       "        <AxesSubplot:xlabel='Sales \\n(In Billion Rs.)', ylabel='Advertising Spends \\n(In Million Rs.)'>],\n",
       "       [<AxesSubplot:xlabel='Sale Force Size\\n(In Thousand Employees)', ylabel='Incentive \\n(In Million Rs)'>,\n",
       "        <AxesSubplot:xlabel='Advertising Spends \\n(In Million Rs.)', ylabel='Incentive \\n(In Million Rs)'>,\n",
       "        <AxesSubplot:xlabel='Incentive \\n(In Million Rs)', ylabel='Incentive \\n(In Million Rs)'>,\n",
       "        <AxesSubplot:xlabel='Sales \\n(In Billion Rs.)', ylabel='Incentive \\n(In Million Rs)'>],\n",
       "       [<AxesSubplot:xlabel='Sale Force Size\\n(In Thousand Employees)', ylabel='Sales \\n(In Billion Rs.)'>,\n",
       "        <AxesSubplot:xlabel='Advertising Spends \\n(In Million Rs.)', ylabel='Sales \\n(In Billion Rs.)'>,\n",
       "        <AxesSubplot:xlabel='Incentive \\n(In Million Rs)', ylabel='Sales \\n(In Billion Rs.)'>,\n",
       "        <AxesSubplot:xlabel='Sales \\n(In Billion Rs.)', ylabel='Sales \\n(In Billion Rs.)'>]],\n",
       "      dtype=object)"
      ]
     },
     "execution_count": 5,
     "metadata": {},
     "output_type": "execute_result"
    },
    {
     "data": {
      "image/png": "[encoded data removed]",
      "text/plain": [
       "<Figure size 432x288 with 16 Axes>"
      ]
     },
     "metadata": {
      "needs_background": "light"
     },
     "output_type": "display_data"
    }
   ],
   "source": [
    "pd.plotting.scatter_matrix(df)"
   ]
  },
  {
   "cell_type": "code",
   "execution_count": 6,
   "id": "d3fa126c",
   "metadata": {},
   "outputs": [
    {
     "data": {
      "text/html": [
       "<div>\n",
       "<style scoped>\n",
       "    .dataframe tbody tr th:only-of-type {\n",
       "        vertical-align: middle;\n",
       "    }\n",
       "\n",
       "    .dataframe tbody tr th {\n",
       "        vertical-align: top;\n",
       "    }\n",
       "\n",
       "    .dataframe thead th {\n",
       "        text-align: right;\n",
       "    }\n",
       "</style>\n",
       "<table border=\"1\" class=\"dataframe\">\n",
       "  <thead>\n",
       "    <tr style=\"text-align: right;\">\n",
       "      <th></th>\n",
       "      <th>Sale Force Size\\n(In Thousand Employees)</th>\n",
       "      <th>Advertising Spends \\n(In Million Rs.)</th>\n",
       "      <th>Incentive \\n(In Million Rs)</th>\n",
       "      <th>Sales \\n(In Billion Rs.)</th>\n",
       "    </tr>\n",
       "  </thead>\n",
       "  <tbody>\n",
       "    <tr>\n",
       "      <th>Sale Force Size\\n(In Thousand Employees)</th>\n",
       "      <td>1.000000</td>\n",
       "      <td>0.025837</td>\n",
       "      <td>0.360480</td>\n",
       "      <td>0.232598</td>\n",
       "    </tr>\n",
       "    <tr>\n",
       "      <th>Advertising Spends \\n(In Million Rs.)</th>\n",
       "      <td>0.025837</td>\n",
       "      <td>1.000000</td>\n",
       "      <td>0.802793</td>\n",
       "      <td>0.891972</td>\n",
       "    </tr>\n",
       "    <tr>\n",
       "      <th>Incentive \\n(In Million Rs)</th>\n",
       "      <td>0.360480</td>\n",
       "      <td>0.802793</td>\n",
       "      <td>1.000000</td>\n",
       "      <td>0.891891</td>\n",
       "    </tr>\n",
       "    <tr>\n",
       "      <th>Sales \\n(In Billion Rs.)</th>\n",
       "      <td>0.232598</td>\n",
       "      <td>0.891972</td>\n",
       "      <td>0.891891</td>\n",
       "      <td>1.000000</td>\n",
       "    </tr>\n",
       "  </tbody>\n",
       "</table>\n",
       "</div>"
      ],
      "text/plain": [
       "                                          Sale Force Size\\n(In Thousand Employees)  \\\n",
       "Sale Force Size\\n(In Thousand Employees)                                  1.000000   \n",
       "Advertising Spends \\n(In Million Rs.)                                     0.025837   \n",
       "Incentive \\n(In Million Rs)                                               0.360480   \n",
       "Sales \\n(In Billion Rs.)                                                  0.232598   \n",
       "\n",
       "                                          Advertising Spends \\n(In Million Rs.)  \\\n",
       "Sale Force Size\\n(In Thousand Employees)                               0.025837   \n",
       "Advertising Spends \\n(In Million Rs.)                                  1.000000   \n",
       "Incentive \\n(In Million Rs)                                            0.802793   \n",
       "Sales \\n(In Billion Rs.)                                               0.891972   \n",
       "\n",
       "                                          Incentive \\n(In Million Rs)  \\\n",
       "Sale Force Size\\n(In Thousand Employees)                     0.360480   \n",
       "Advertising Spends \\n(In Million Rs.)                        0.802793   \n",
       "Incentive \\n(In Million Rs)                                  1.000000   \n",
       "Sales \\n(In Billion Rs.)                                     0.891891   \n",
       "\n",
       "                                          Sales \\n(In Billion Rs.)  \n",
       "Sale Force Size\\n(In Thousand Employees)                  0.232598  \n",
       "Advertising Spends \\n(In Million Rs.)                     0.891972  \n",
       "Incentive \\n(In Million Rs)                               0.891891  \n",
       "Sales \\n(In Billion Rs.)                                  1.000000  "
      ]
     },
     "execution_count": 6,
     "metadata": {},
     "output_type": "execute_result"
    }
   ],
   "source": [
    "df.corr()"
   ]
  },
  {
   "cell_type": "code",
   "execution_count": 7,
   "id": "8fb80c05",
   "metadata": {},
   "outputs": [],
   "source": [
    "import numpy as np\n",
    "import scipy.stats as sp\n",
    "import matplotlib.pyplot as plt\n",
    "%matplotlib inline"
   ]
  },
  {
   "cell_type": "code",
   "execution_count": 8,
   "id": "7b411573",
   "metadata": {},
   "outputs": [
    {
     "ename": "SyntaxError",
     "evalue": "expression cannot contain assignment, perhaps you meant \"==\"? (<ipython-input-8-f207d3756e90>, line 1)",
     "output_type": "error",
     "traceback": [
      "\u001b[1;36m  File \u001b[1;32m\"<ipython-input-8-f207d3756e90>\"\u001b[1;36m, line \u001b[1;32m1\u001b[0m\n\u001b[1;33m    y=np.array(df['Sales \\n(In Billion Rs.)'].dropna().values.dtype=float)\u001b[0m\n\u001b[1;37m               ^\u001b[0m\n\u001b[1;31mSyntaxError\u001b[0m\u001b[1;31m:\u001b[0m expression cannot contain assignment, perhaps you meant \"==\"?\n"
     ]
    }
   ],
   "source": [
    "y=np.array(df['Sales \\n(In Billion Rs.)'].dropna().values.dtype=float)\n",
    "x=np.array(df['Advertising Spends \\n(In Million Rs.)'].dropna().values.dtype=float)\n",
    "slope, intercept, r_value, p_value, std_err = sp.linregress(x,y)\n",
    "xf = np.linspace(min(x),max(x),100)\n",
    "xf1 = xf.copy()\n",
    "yf=(slope*xf)+intercept\n",
    "print('r=', r_value, '\\n', 'p=', p_value, '\\n', 'std err = ', std_err)\n"
   ]
  },
  {
   "cell_type": "code",
   "execution_count": null,
   "id": "25faa199",
   "metadata": {},
   "outputs": [],
   "source": []
  }
 ],
 "metadata": {
  "kernelspec": {
   "display_name": "Python 3",
   "language": "python",
   "name": "python3"
  },
  "language_info": {
   "codemirror_mode": {
    "name": "ipython",
    "version": 3
   },
   "file_extension": ".py",
   "mimetype": "text/x-python",
   "name": "python",
   "nbconvert_exporter": "python",
   "pygments_lexer": "ipython3",
   "version": "3.8.8"
  }
 },
 "nbformat": 4,
 "nbformat_minor": 5
}
