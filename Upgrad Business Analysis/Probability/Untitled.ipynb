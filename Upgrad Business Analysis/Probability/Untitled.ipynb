{
 "cells": [
  {
   "cell_type": "code",
   "execution_count": 3,
   "id": "b55bfc21",
   "metadata": {},
   "outputs": [],
   "source": [
    "import pandas as pd\n",
    "df = pd.read_excel('C:\\\\Users\\\\PrabhakaranS\\\\Downloads\\\\Graduation+and+Roles.xlsx', usecols=(\"C:F\"), skiprows=4)"
   ]
  },
  {
   "cell_type": "code",
   "execution_count": 4,
   "id": "28eb724e",
   "metadata": {},
   "outputs": [
    {
     "data": {
      "text/html": [
       "<div>\n",
       "<style scoped>\n",
       "    .dataframe tbody tr th:only-of-type {\n",
       "        vertical-align: middle;\n",
       "    }\n",
       "\n",
       "    .dataframe tbody tr th {\n",
       "        vertical-align: top;\n",
       "    }\n",
       "\n",
       "    .dataframe thead th {\n",
       "        text-align: right;\n",
       "    }\n",
       "</style>\n",
       "<table border=\"1\" class=\"dataframe\">\n",
       "  <thead>\n",
       "    <tr style=\"text-align: right;\">\n",
       "      <th></th>\n",
       "      <th>Unnamed: 2</th>\n",
       "      <th>Analytical</th>\n",
       "      <th>Managerial</th>\n",
       "      <th>Academia</th>\n",
       "    </tr>\n",
       "  </thead>\n",
       "  <tbody>\n",
       "    <tr>\n",
       "      <th>0</th>\n",
       "      <td>Bachelors</td>\n",
       "      <td>1273</td>\n",
       "      <td>742</td>\n",
       "      <td>3</td>\n",
       "    </tr>\n",
       "    <tr>\n",
       "      <th>1</th>\n",
       "      <td>Masters</td>\n",
       "      <td>897</td>\n",
       "      <td>1231</td>\n",
       "      <td>35</td>\n",
       "    </tr>\n",
       "    <tr>\n",
       "      <th>2</th>\n",
       "      <td>PhD</td>\n",
       "      <td>471</td>\n",
       "      <td>231</td>\n",
       "      <td>117</td>\n",
       "    </tr>\n",
       "  </tbody>\n",
       "</table>\n",
       "</div>"
      ],
      "text/plain": [
       "  Unnamed: 2  Analytical  Managerial  Academia\n",
       "0  Bachelors        1273         742         3\n",
       "1    Masters         897        1231        35\n",
       "2        PhD         471         231       117"
      ]
     },
     "execution_count": 4,
     "metadata": {},
     "output_type": "execute_result"
    }
   ],
   "source": [
    "df"
   ]
  },
  {
   "cell_type": "code",
   "execution_count": 6,
   "id": "df2b3eb2",
   "metadata": {},
   "outputs": [],
   "source": [
    "df.columns=['Highest_Education','Analytical','Managerial','Academia']"
   ]
  },
  {
   "cell_type": "code",
   "execution_count": 7,
   "id": "7a0b29bf",
   "metadata": {},
   "outputs": [
    {
     "data": {
      "text/html": [
       "<div>\n",
       "<style scoped>\n",
       "    .dataframe tbody tr th:only-of-type {\n",
       "        vertical-align: middle;\n",
       "    }\n",
       "\n",
       "    .dataframe tbody tr th {\n",
       "        vertical-align: top;\n",
       "    }\n",
       "\n",
       "    .dataframe thead th {\n",
       "        text-align: right;\n",
       "    }\n",
       "</style>\n",
       "<table border=\"1\" class=\"dataframe\">\n",
       "  <thead>\n",
       "    <tr style=\"text-align: right;\">\n",
       "      <th></th>\n",
       "      <th>Highest_Education</th>\n",
       "      <th>Analytical</th>\n",
       "      <th>Managerial</th>\n",
       "      <th>Academia</th>\n",
       "    </tr>\n",
       "  </thead>\n",
       "  <tbody>\n",
       "    <tr>\n",
       "      <th>0</th>\n",
       "      <td>Bachelors</td>\n",
       "      <td>1273</td>\n",
       "      <td>742</td>\n",
       "      <td>3</td>\n",
       "    </tr>\n",
       "    <tr>\n",
       "      <th>1</th>\n",
       "      <td>Masters</td>\n",
       "      <td>897</td>\n",
       "      <td>1231</td>\n",
       "      <td>35</td>\n",
       "    </tr>\n",
       "    <tr>\n",
       "      <th>2</th>\n",
       "      <td>PhD</td>\n",
       "      <td>471</td>\n",
       "      <td>231</td>\n",
       "      <td>117</td>\n",
       "    </tr>\n",
       "  </tbody>\n",
       "</table>\n",
       "</div>"
      ],
      "text/plain": [
       "  Highest_Education  Analytical  Managerial  Academia\n",
       "0         Bachelors        1273         742         3\n",
       "1           Masters         897        1231        35\n",
       "2               PhD         471         231       117"
      ]
     },
     "execution_count": 7,
     "metadata": {},
     "output_type": "execute_result"
    }
   ],
   "source": [
    "df"
   ]
  },
  {
   "cell_type": "code",
   "execution_count": 8,
   "id": "e9d103ed",
   "metadata": {},
   "outputs": [
    {
     "data": {
      "text/plain": [
       "<bound method NDFrame._add_numeric_operations.<locals>.sum of   Highest_Education  Analytical  Managerial  Academia\n",
       "1           Masters         897        1231        35>"
      ]
     },
     "execution_count": 8,
     "metadata": {},
     "output_type": "execute_result"
    }
   ],
   "source": [
    "df[1:2].sum"
   ]
  },
  {
   "cell_type": "code",
   "execution_count": 20,
   "id": "6d36acbc",
   "metadata": {},
   "outputs": [
    {
     "data": {
      "text/plain": [
       "5000"
      ]
     },
     "execution_count": 20,
     "metadata": {},
     "output_type": "execute_result"
    }
   ],
   "source": [
    "Total = df['Analytical'].sum() + df['Managerial'].sum() + df['Academia'].sum()\n",
    "Total"
   ]
  },
  {
   "cell_type": "code",
   "execution_count": 16,
   "id": "fd9626ef",
   "metadata": {},
   "outputs": [
    {
     "data": {
      "text/plain": [
       "2641"
      ]
     },
     "execution_count": 16,
     "metadata": {},
     "output_type": "execute_result"
    }
   ],
   "source": [
    "Analytical = df['Analytical'].sum()\n",
    "Analytical"
   ]
  },
  {
   "cell_type": "code",
   "execution_count": 17,
   "id": "353d09df",
   "metadata": {},
   "outputs": [
    {
     "data": {
      "text/plain": [
       "2204"
      ]
     },
     "execution_count": 17,
     "metadata": {},
     "output_type": "execute_result"
    }
   ],
   "source": [
    "Managerial = df['Managerial'].sum()\n",
    "Managerial"
   ]
  },
  {
   "cell_type": "code",
   "execution_count": 18,
   "id": "081d8d04",
   "metadata": {},
   "outputs": [
    {
     "data": {
      "text/plain": [
       "155"
      ]
     },
     "execution_count": 18,
     "metadata": {},
     "output_type": "execute_result"
    }
   ],
   "source": [
    "Academia = df['Academia'].sum()\n",
    "Academia"
   ]
  },
  {
   "cell_type": "code",
   "execution_count": 31,
   "id": "ddaab19c",
   "metadata": {},
   "outputs": [
    {
     "data": {
      "text/plain": [
       "4845"
      ]
     },
     "execution_count": 31,
     "metadata": {},
     "output_type": "execute_result"
    }
   ],
   "source": [
    "(Analytical + Managerial)"
   ]
  },
  {
   "cell_type": "code",
   "execution_count": 32,
   "id": "e2a5e038",
   "metadata": {},
   "outputs": [
    {
     "data": {
      "text/html": [
       "<div>\n",
       "<style scoped>\n",
       "    .dataframe tbody tr th:only-of-type {\n",
       "        vertical-align: middle;\n",
       "    }\n",
       "\n",
       "    .dataframe tbody tr th {\n",
       "        vertical-align: top;\n",
       "    }\n",
       "\n",
       "    .dataframe thead th {\n",
       "        text-align: right;\n",
       "    }\n",
       "</style>\n",
       "<table border=\"1\" class=\"dataframe\">\n",
       "  <thead>\n",
       "    <tr style=\"text-align: right;\">\n",
       "      <th></th>\n",
       "      <th>Highest_Education</th>\n",
       "      <th>Analytical</th>\n",
       "      <th>Managerial</th>\n",
       "      <th>Academia</th>\n",
       "    </tr>\n",
       "  </thead>\n",
       "  <tbody>\n",
       "    <tr>\n",
       "      <th>0</th>\n",
       "      <td>Bachelors</td>\n",
       "      <td>1273</td>\n",
       "      <td>742</td>\n",
       "      <td>3</td>\n",
       "    </tr>\n",
       "    <tr>\n",
       "      <th>1</th>\n",
       "      <td>Masters</td>\n",
       "      <td>897</td>\n",
       "      <td>1231</td>\n",
       "      <td>35</td>\n",
       "    </tr>\n",
       "    <tr>\n",
       "      <th>2</th>\n",
       "      <td>PhD</td>\n",
       "      <td>471</td>\n",
       "      <td>231</td>\n",
       "      <td>117</td>\n",
       "    </tr>\n",
       "  </tbody>\n",
       "</table>\n",
       "</div>"
      ],
      "text/plain": [
       "  Highest_Education  Analytical  Managerial  Academia\n",
       "0         Bachelors        1273         742         3\n",
       "1           Masters         897        1231        35\n",
       "2               PhD         471         231       117"
      ]
     },
     "execution_count": 32,
     "metadata": {},
     "output_type": "execute_result"
    }
   ],
   "source": [
    "import numpy as np\n",
    "df"
   ]
  },
  {
   "cell_type": "code",
   "execution_count": 39,
   "id": "1497e57a",
   "metadata": {},
   "outputs": [
    {
     "data": {
      "text/plain": [
       "array([[1273,  742,    3],\n",
       "       [ 897, 1231,   35],\n",
       "       [ 471,  231,  117]])"
      ]
     },
     "execution_count": 39,
     "metadata": {},
     "output_type": "execute_result"
    }
   ],
   "source": [
    "edu=np.array([[1273, 742, 3],[897,1231,35],[471,231,117]])\n",
    "edu"
   ]
  },
  {
   "cell_type": "code",
   "execution_count": 40,
   "id": "54f5e052",
   "metadata": {},
   "outputs": [
    {
     "data": {
      "text/plain": [
       "array([[1273,  897,  471],\n",
       "       [ 742, 1231,  231],\n",
       "       [   3,   35,  117]])"
      ]
     },
     "execution_count": 40,
     "metadata": {},
     "output_type": "execute_result"
    }
   ],
   "source": [
    "role = np.array([[1273,897,471],[742,1231,231],[3,35,117]])\n",
    "role"
   ]
  },
  {
   "cell_type": "code",
   "execution_count": 43,
   "id": "cd45a398",
   "metadata": {},
   "outputs": [],
   "source": [
    "Bachelors = edu[0,:].sum()"
   ]
  },
  {
   "cell_type": "code",
   "execution_count": 44,
   "id": "e7596f61",
   "metadata": {},
   "outputs": [
    {
     "data": {
      "text/plain": [
       "2163"
      ]
     },
     "execution_count": 44,
     "metadata": {},
     "output_type": "execute_result"
    }
   ],
   "source": [
    "Masters = edu[1,:].sum()\n",
    "Masters"
   ]
  },
  {
   "cell_type": "code",
   "execution_count": 45,
   "id": "84384058",
   "metadata": {},
   "outputs": [
    {
     "data": {
      "text/plain": [
       "819"
      ]
     },
     "execution_count": 45,
     "metadata": {},
     "output_type": "execute_result"
    }
   ],
   "source": [
    "PhD = edu[-1,:].sum()\n",
    "PhD"
   ]
  },
  {
   "cell_type": "code",
   "execution_count": 50,
   "id": "853c793e",
   "metadata": {},
   "outputs": [
    {
     "data": {
      "text/plain": [
       "0.0014866204162537165"
      ]
     },
     "execution_count": 50,
     "metadata": {},
     "output_type": "execute_result"
    }
   ],
   "source": [
    "edu[0,2]/Bachelors"
   ]
  },
  {
   "cell_type": "code",
   "execution_count": 51,
   "id": "8d42394f",
   "metadata": {},
   "outputs": [
    {
     "data": {
      "text/html": [
       "<div>\n",
       "<style scoped>\n",
       "    .dataframe tbody tr th:only-of-type {\n",
       "        vertical-align: middle;\n",
       "    }\n",
       "\n",
       "    .dataframe tbody tr th {\n",
       "        vertical-align: top;\n",
       "    }\n",
       "\n",
       "    .dataframe thead th {\n",
       "        text-align: right;\n",
       "    }\n",
       "</style>\n",
       "<table border=\"1\" class=\"dataframe\">\n",
       "  <thead>\n",
       "    <tr style=\"text-align: right;\">\n",
       "      <th></th>\n",
       "      <th>Highest_Education</th>\n",
       "      <th>Analytical</th>\n",
       "      <th>Managerial</th>\n",
       "      <th>Academia</th>\n",
       "    </tr>\n",
       "  </thead>\n",
       "  <tbody>\n",
       "    <tr>\n",
       "      <th>0</th>\n",
       "      <td>Bachelors</td>\n",
       "      <td>1273</td>\n",
       "      <td>742</td>\n",
       "      <td>3</td>\n",
       "    </tr>\n",
       "    <tr>\n",
       "      <th>1</th>\n",
       "      <td>Masters</td>\n",
       "      <td>897</td>\n",
       "      <td>1231</td>\n",
       "      <td>35</td>\n",
       "    </tr>\n",
       "    <tr>\n",
       "      <th>2</th>\n",
       "      <td>PhD</td>\n",
       "      <td>471</td>\n",
       "      <td>231</td>\n",
       "      <td>117</td>\n",
       "    </tr>\n",
       "  </tbody>\n",
       "</table>\n",
       "</div>"
      ],
      "text/plain": [
       "  Highest_Education  Analytical  Managerial  Academia\n",
       "0         Bachelors        1273         742         3\n",
       "1           Masters         897        1231        35\n",
       "2               PhD         471         231       117"
      ]
     },
     "execution_count": 51,
     "metadata": {},
     "output_type": "execute_result"
    }
   ],
   "source": [
    "df"
   ]
  },
  {
   "cell_type": "code",
   "execution_count": 52,
   "id": "49019be6",
   "metadata": {},
   "outputs": [
    {
     "data": {
      "text/plain": [
       "0.0009160413588373343"
      ]
     },
     "execution_count": 52,
     "metadata": {},
     "output_type": "execute_result"
    }
   ],
   "source": [
    "1/Masters + 1/Managerial"
   ]
  },
  {
   "cell_type": "code",
   "execution_count": 3,
   "id": "f405ca92",
   "metadata": {},
   "outputs": [],
   "source": [
    "import pandas as pd"
   ]
  },
  {
   "cell_type": "code",
   "execution_count": 4,
   "id": "8923f6e1",
   "metadata": {},
   "outputs": [],
   "source": [
    "data = {'RollNo':['8012','8045','8053','8099','8125'], 'Height':[121.92, 133.21, 141.34, 126.23, 175.74]}"
   ]
  },
  {
   "cell_type": "code",
   "execution_count": 5,
   "id": "9a430bc1",
   "metadata": {},
   "outputs": [],
   "source": [
    "df = pd.DataFrame(data)"
   ]
  },
  {
   "cell_type": "code",
   "execution_count": 6,
   "id": "ed8d235c",
   "metadata": {},
   "outputs": [
    {
     "data": {
      "text/plain": [
       "10"
      ]
     },
     "execution_count": 6,
     "metadata": {},
     "output_type": "execute_result"
    }
   ],
   "source": [
    "df.size"
   ]
  },
  {
   "cell_type": "code",
   "execution_count": 9,
   "id": "93c4d01b",
   "metadata": {},
   "outputs": [
    {
     "data": {
      "text/plain": [
       "(5, 2)"
      ]
     },
     "execution_count": 9,
     "metadata": {},
     "output_type": "execute_result"
    }
   ],
   "source": [
    "df.shape"
   ]
  },
  {
   "cell_type": "code",
   "execution_count": 10,
   "id": "e9e82e0d",
   "metadata": {},
   "outputs": [
    {
     "data": {
      "text/plain": [
       "139.68800000000002"
      ]
     },
     "execution_count": 10,
     "metadata": {},
     "output_type": "execute_result"
    }
   ],
   "source": [
    "df['Height'].mean()"
   ]
  },
  {
   "cell_type": "code",
   "execution_count": 13,
   "id": "c8f554bd",
   "metadata": {},
   "outputs": [
    {
     "data": {
      "text/plain": [
       "21.454952109012037"
      ]
     },
     "execution_count": 13,
     "metadata": {},
     "output_type": "execute_result"
    }
   ],
   "source": [
    "df['Height'].std()"
   ]
  },
  {
   "cell_type": "code",
   "execution_count": 14,
   "id": "b21676a7",
   "metadata": {},
   "outputs": [
    {
     "data": {
      "text/plain": [
       "698.44"
      ]
     },
     "execution_count": 14,
     "metadata": {},
     "output_type": "execute_result"
    }
   ],
   "source": [
    "df['Height'].sum()"
   ]
  },
  {
   "cell_type": "code",
   "execution_count": 1,
   "id": "8abe1d55",
   "metadata": {},
   "outputs": [
    {
     "ename": "NameError",
     "evalue": "name 'df' is not defined",
     "output_type": "error",
     "traceback": [
      "\u001b[1;31m---------------------------------------------------------------------------\u001b[0m",
      "\u001b[1;31mNameError\u001b[0m                                 Traceback (most recent call last)",
      "\u001b[1;32m<ipython-input-1-1df616f619d0>\u001b[0m in \u001b[0;36m<module>\u001b[1;34m\u001b[0m\n\u001b[1;32m----> 1\u001b[1;33m \u001b[0mdf\u001b[0m\u001b[1;33m[\u001b[0m\u001b[1;34m'Height'\u001b[0m\u001b[1;33m]\u001b[0m\u001b[1;33m\u001b[0m\u001b[1;33m\u001b[0m\u001b[0m\n\u001b[0m",
      "\u001b[1;31mNameError\u001b[0m: name 'df' is not defined"
     ]
    }
   ],
   "source": [
    "df['Height']"
   ]
  },
  {
   "cell_type": "code",
   "execution_count": 2,
   "id": "d6a8bba7",
   "metadata": {},
   "outputs": [],
   "source": [
    "import pandas as pd"
   ]
  },
  {
   "cell_type": "code",
   "execution_count": 4,
   "id": "338d0cd0",
   "metadata": {},
   "outputs": [
    {
     "data": {
      "text/html": [
       "<div>\n",
       "<style scoped>\n",
       "    .dataframe tbody tr th:only-of-type {\n",
       "        vertical-align: middle;\n",
       "    }\n",
       "\n",
       "    .dataframe tbody tr th {\n",
       "        vertical-align: top;\n",
       "    }\n",
       "\n",
       "    .dataframe thead th {\n",
       "        text-align: right;\n",
       "    }\n",
       "</style>\n",
       "<table border=\"1\" class=\"dataframe\">\n",
       "  <thead>\n",
       "    <tr style=\"text-align: right;\">\n",
       "      <th></th>\n",
       "      <th>Opt</th>\n",
       "      <th>Sample</th>\n",
       "    </tr>\n",
       "  </thead>\n",
       "  <tbody>\n",
       "    <tr>\n",
       "      <th>0</th>\n",
       "      <td>Yes</td>\n",
       "      <td>1330</td>\n",
       "    </tr>\n",
       "    <tr>\n",
       "      <th>1</th>\n",
       "      <td>No</td>\n",
       "      <td>1170</td>\n",
       "    </tr>\n",
       "  </tbody>\n",
       "</table>\n",
       "</div>"
      ],
      "text/plain": [
       "   Opt  Sample\n",
       "0  Yes    1330\n",
       "1   No    1170"
      ]
     },
     "execution_count": 4,
     "metadata": {},
     "output_type": "execute_result"
    }
   ],
   "source": [
    "data = {'Opt':['Yes', 'No'], 'Sample':[1330, 1170]}\n",
    "df = pd.DataFrame(data)\n",
    "df"
   ]
  },
  {
   "cell_type": "code",
   "execution_count": 6,
   "id": "37948569",
   "metadata": {},
   "outputs": [
    {
     "data": {
      "text/plain": [
       "1250.0"
      ]
     },
     "execution_count": 6,
     "metadata": {},
     "output_type": "execute_result"
    }
   ],
   "source": [
    "df['Sample'].mean()"
   ]
  },
  {
   "cell_type": "code",
   "execution_count": 13,
   "id": "6f3e4041",
   "metadata": {},
   "outputs": [
    {
     "ename": "TypeError",
     "evalue": "'Series' object is not callable",
     "output_type": "error",
     "traceback": [
      "\u001b[1;31m---------------------------------------------------------------------------\u001b[0m",
      "\u001b[1;31mTypeError\u001b[0m                                 Traceback (most recent call last)",
      "\u001b[1;32m<ipython-input-13-d3ff5d60659e>\u001b[0m in \u001b[0;36m<module>\u001b[1;34m\u001b[0m\n\u001b[1;32m----> 1\u001b[1;33m \u001b[1;36m1330\u001b[0m\u001b[1;33m/\u001b[0m\u001b[0mdf\u001b[0m\u001b[1;33m[\u001b[0m\u001b[1;34m'Sample'\u001b[0m\u001b[1;33m]\u001b[0m\u001b[1;33m(\u001b[0m\u001b[1;34m'Opt'\u001b[0m\u001b[1;33m==\u001b[0m\u001b[1;34m'Yes'\u001b[0m\u001b[1;33m)\u001b[0m\u001b[1;33m.\u001b[0m\u001b[0msum\u001b[0m\u001b[1;33m(\u001b[0m\u001b[1;33m)\u001b[0m\u001b[1;33m\u001b[0m\u001b[1;33m\u001b[0m\u001b[0m\n\u001b[0m",
      "\u001b[1;31mTypeError\u001b[0m: 'Series' object is not callable"
     ]
    }
   ],
   "source": [
    "1330/df['Sample']('Opt'=='Yes').sum()"
   ]
  },
  {
   "cell_type": "code",
   "execution_count": 12,
   "id": "580f62c4",
   "metadata": {},
   "outputs": [
    {
     "data": {
      "text/plain": [
       "113.13708498984761"
      ]
     },
     "execution_count": 12,
     "metadata": {},
     "output_type": "execute_result"
    }
   ],
   "source": [
    "df['Sample'].std()"
   ]
  },
  {
   "cell_type": "code",
   "execution_count": 14,
   "id": "2a6fd677",
   "metadata": {},
   "outputs": [],
   "source": [
    "import numpy as np"
   ]
  },
  {
   "cell_type": "code",
   "execution_count": 20,
   "id": "8835d479",
   "metadata": {},
   "outputs": [
    {
     "data": {
      "text/plain": [
       "array([[1, 1, 1, 1],\n",
       "       [1, 1, 1, 1],\n",
       "       [1, 1, 1, 1],\n",
       "       [1, 1, 1, 1]])"
      ]
     },
     "execution_count": 20,
     "metadata": {},
     "output_type": "execute_result"
    }
   ],
   "source": [
    "ar = ([0,1])\n",
    "ra = ([1,0])\n",
    "np.tile(ar,(4,4))"
   ]
  },
  {
   "cell_type": "code",
   "execution_count": 1,
   "id": "6a07b3e7",
   "metadata": {},
   "outputs": [],
   "source": [
    "import pandas as pd\n",
    "df = pd.read_excel('C:\\\\Users\\\\PrabhakaranS\\\\Downloads\\\\Customer+Service+Time.xlsx', headers)"
   ]
  },
  {
   "cell_type": "code",
   "execution_count": 3,
   "id": "eff90618",
   "metadata": {},
   "outputs": [
    {
     "data": {
      "text/html": [
       "<div>\n",
       "<style scoped>\n",
       "    .dataframe tbody tr th:only-of-type {\n",
       "        vertical-align: middle;\n",
       "    }\n",
       "\n",
       "    .dataframe tbody tr th {\n",
       "        vertical-align: top;\n",
       "    }\n",
       "\n",
       "    .dataframe thead th {\n",
       "        text-align: right;\n",
       "    }\n",
       "</style>\n",
       "<table border=\"1\" class=\"dataframe\">\n",
       "  <thead>\n",
       "    <tr style=\"text-align: right;\">\n",
       "      <th></th>\n",
       "      <th>Serial No.</th>\n",
       "      <th>Males</th>\n",
       "      <th>Females</th>\n",
       "    </tr>\n",
       "  </thead>\n",
       "  <tbody>\n",
       "    <tr>\n",
       "      <th>0</th>\n",
       "      <td>1</td>\n",
       "      <td>165.1</td>\n",
       "      <td>151.4</td>\n",
       "    </tr>\n",
       "    <tr>\n",
       "      <th>1</th>\n",
       "      <td>2</td>\n",
       "      <td>166.6</td>\n",
       "      <td>155.3</td>\n",
       "    </tr>\n",
       "    <tr>\n",
       "      <th>2</th>\n",
       "      <td>3</td>\n",
       "      <td>162.4</td>\n",
       "      <td>150.1</td>\n",
       "    </tr>\n",
       "    <tr>\n",
       "      <th>3</th>\n",
       "      <td>4</td>\n",
       "      <td>161.9</td>\n",
       "      <td>145.0</td>\n",
       "    </tr>\n",
       "    <tr>\n",
       "      <th>4</th>\n",
       "      <td>5</td>\n",
       "      <td>169.9</td>\n",
       "      <td>150.7</td>\n",
       "    </tr>\n",
       "    <tr>\n",
       "      <th>...</th>\n",
       "      <td>...</td>\n",
       "      <td>...</td>\n",
       "      <td>...</td>\n",
       "    </tr>\n",
       "    <tr>\n",
       "      <th>495</th>\n",
       "      <td>496</td>\n",
       "      <td>165.3</td>\n",
       "      <td>154.4</td>\n",
       "    </tr>\n",
       "    <tr>\n",
       "      <th>496</th>\n",
       "      <td>497</td>\n",
       "      <td>166.3</td>\n",
       "      <td>149.3</td>\n",
       "    </tr>\n",
       "    <tr>\n",
       "      <th>497</th>\n",
       "      <td>498</td>\n",
       "      <td>169.2</td>\n",
       "      <td>149.9</td>\n",
       "    </tr>\n",
       "    <tr>\n",
       "      <th>498</th>\n",
       "      <td>499</td>\n",
       "      <td>167.8</td>\n",
       "      <td>153.8</td>\n",
       "    </tr>\n",
       "    <tr>\n",
       "      <th>499</th>\n",
       "      <td>500</td>\n",
       "      <td>164.1</td>\n",
       "      <td>153.6</td>\n",
       "    </tr>\n",
       "  </tbody>\n",
       "</table>\n",
       "<p>500 rows × 3 columns</p>\n",
       "</div>"
      ],
      "text/plain": [
       "     Serial No.  Males  Females\n",
       "0             1  165.1    151.4\n",
       "1             2  166.6    155.3\n",
       "2             3  162.4    150.1\n",
       "3             4  161.9    145.0\n",
       "4             5  169.9    150.7\n",
       "..          ...    ...      ...\n",
       "495         496  165.3    154.4\n",
       "496         497  166.3    149.3\n",
       "497         498  169.2    149.9\n",
       "498         499  167.8    153.8\n",
       "499         500  164.1    153.6\n",
       "\n",
       "[500 rows x 3 columns]"
      ]
     },
     "execution_count": 3,
     "metadata": {},
     "output_type": "execute_result"
    }
   ],
   "source": [
    "df"
   ]
  },
  {
   "cell_type": "code",
   "execution_count": 4,
   "id": "f9044169",
   "metadata": {},
   "outputs": [
    {
     "data": {
      "text/plain": [
       "166.5326"
      ]
     },
     "execution_count": 4,
     "metadata": {},
     "output_type": "execute_result"
    }
   ],
   "source": [
    "df['Males'].mean()"
   ]
  },
  {
   "cell_type": "code",
   "execution_count": 5,
   "id": "3b6f4c6e",
   "metadata": {},
   "outputs": [
    {
     "data": {
      "text/plain": [
       "2.9462311171378213"
      ]
     },
     "execution_count": 5,
     "metadata": {},
     "output_type": "execute_result"
    }
   ],
   "source": [
    "df['Males'].std()"
   ]
  },
  {
   "cell_type": "code",
   "execution_count": 6,
   "id": "21e3bbf0",
   "metadata": {},
   "outputs": [],
   "source": [
    "import numpy as np"
   ]
  },
  {
   "cell_type": "code",
   "execution_count": 7,
   "id": "60fbc266",
   "metadata": {},
   "outputs": [],
   "source": [
    "from scipy.stats import zscore"
   ]
  },
  {
   "cell_type": "code",
   "execution_count": 8,
   "id": "4e43c1f7",
   "metadata": {},
   "outputs": [],
   "source": [
    "maledata = np.array(df['Males'])"
   ]
  },
  {
   "cell_type": "code",
   "execution_count": 9,
   "id": "b5c7dab7",
   "metadata": {},
   "outputs": [
    {
     "data": {
      "text/plain": [
       "array([-0.48673532,  0.0228996 , -1.40407817, -1.57395648,  1.14409642,\n",
       "        0.12482658,  0.36265621,  0.97421811, -0.89444326,  1.11012075,\n",
       "       -0.38480834, -0.62263797,  1.99348795, -0.55468664, -1.53998082,\n",
       "        1.07614509,  0.12482658,  0.53253451,  0.15880224, -1.98166442,\n",
       "       -1.23419987, -0.8604676 ,  0.22675356,  1.00819377, -0.48673532,\n",
       "       -1.74383479, -0.8604676 ,  0.26072922, -1.23419987, -0.58866231,\n",
       "        0.32868055,  1.04216943,  0.73638848, -0.89444326, -0.04505173,\n",
       "       -1.09829722, -0.14697871, -0.55468664, -1.91371309,  0.94024245,\n",
       "       -1.37010251,  1.07614509,  0.26072922,  0.05687526,  1.07614509,\n",
       "        0.60048584, -1.4720295 , -1.77781045,  2.19734191, -0.38480834,\n",
       "        1.04216943, -0.92841892,  0.0228996 ,  1.21204774, -0.92841892,\n",
       "       -0.89444326,  1.21204774, -0.65661363,  1.38192604,  0.73638848,\n",
       "        0.32868055,  1.21204774,  1.92553662,  0.6344615 , -0.62263797,\n",
       "       -1.98166442, -2.11756706, -0.38480834,  0.49855885,  0.77036414,\n",
       "       -1.16624855, -0.92841892, -0.35083268,  0.46458319, -0.52071098,\n",
       "       -0.418784  ,  0.22675356, -1.13227289,  1.00819377, -0.21493003,\n",
       "       -0.24890569, -1.13227289, -0.79251627, -0.21493003, -0.11300305,\n",
       "       -0.24890569,  0.97421811, -0.99637024,  2.06143927, -0.04505173,\n",
       "       -0.79251627,  0.77036414,  0.1927779 , -2.96695859, -1.30215119,\n",
       "       -1.13227289, -0.75854061,  0.26072922,  0.60048584, -0.69058929,\n",
       "       -1.0303459 , -0.418784  , -0.24890569,  1.44987737, -0.38480834,\n",
       "        1.44987737, -0.04505173, -2.59322632,  0.53253451, -0.24890569,\n",
       "        0.43060753, -0.79251627, -0.24890569,  1.4159017 , -0.62263797,\n",
       "        0.43060753,  0.09085092,  0.53253451,  0.83831546,  0.49855885,\n",
       "        1.00819377,  0.56651017, -0.89444326,  0.94024245,  0.70241282,\n",
       "       -0.01107607,  0.39663187, -0.62263797, -0.55468664,  0.32868055,\n",
       "       -1.50600516,  0.87229113, -0.14697871, -0.58866231,  0.53253451,\n",
       "        0.97421811,  0.1927779 , -1.74383479, -0.04505173,  0.15880224,\n",
       "       -0.48673532, -0.96239458,  0.26072922,  0.26072922, -0.418784  ,\n",
       "        0.32868055, -0.89444326, -1.30215119, -0.24890569,  0.8043398 ,\n",
       "        0.12482658,  1.31397472,  0.39663187,  0.1927779 ,  0.29470489,\n",
       "        1.14409642,  0.6344615 , -0.8604676 ,  0.49855885, -0.48673532,\n",
       "        0.36265621, -0.38480834,  0.8043398 ,  0.83831546,  1.2460234 ,\n",
       "        0.53253451, -0.28288136,  1.00819377,  0.39663187, -1.26817553,\n",
       "       -0.65661363,  0.43060753, -0.31685702,  0.36265621, -0.21493003,\n",
       "       -1.16624855, -0.18095437,  0.05687526,  1.34795038, -0.18095437,\n",
       "        0.12482658,  1.38192604,  1.44987737,  0.22675356,  0.15880224,\n",
       "        0.60048584,  1.61975567,  1.68770699, -1.87973743, -0.28288136,\n",
       "       -1.23419987, -0.14697871, -0.18095437, -1.94768875, -0.45275966,\n",
       "       -0.14697871, -0.04505173, -0.04505173,  1.58578001, -0.62263797,\n",
       "        1.2460234 , -0.28288136,  1.00819377,  0.26072922,  1.78963398,\n",
       "        0.49855885,  0.12482658, -0.38480834, -0.45275966, -1.4720295 ,\n",
       "        0.09085092, -0.18095437,  0.15880224,  1.07614509,  0.29470489,\n",
       "        0.46458319, -1.4720295 ,  0.0228996 , -1.20022421,  0.70241282,\n",
       "       -0.04505173,  0.0228996 , -0.45275966, -0.11300305,  1.11012075,\n",
       "        0.60048584,  1.51782869, -1.26817553, -1.40407817, -0.58866231,\n",
       "       -1.16624855, -0.18095437, -0.79251627,  1.14409642,  1.27999906,\n",
       "        0.22675356,  1.44987737,  1.8575853 , -1.06432156,  0.77036414,\n",
       "        1.68770699,  0.12482658,  0.09085092, -0.418784  ,  2.70697683,\n",
       "       -0.38480834, -2.2534697 ,  1.14409642, -2.83105595,  0.39663187,\n",
       "        0.09085092,  0.36265621, -1.70985913, -0.01107607,  1.11012075,\n",
       "       -0.14697871,  0.6344615 ,  0.83831546, -0.72456495,  0.22675356,\n",
       "       -0.48673532, -1.0303459 , -0.07902739, -0.65661363, -0.92841892,\n",
       "        1.78963398,  1.38192604,  0.12482658,  0.97421811, -0.52071098,\n",
       "        0.49855885,  0.22675356,  1.68770699, -0.24890569,  2.19734191,\n",
       "       -2.0835914 , -1.40407817,  0.1927779 ,  0.53253451, -2.59322632,\n",
       "        0.09085092,  0.22675356, -0.52071098, -0.52071098,  0.43060753,\n",
       "        0.46458319,  1.34795038,  0.66843716, -0.92841892,  0.22675356,\n",
       "        0.1927779 , -0.01107607,  1.82360964, -0.31685702,  1.17807208,\n",
       "        0.87229113, -0.96239458,  1.27999906,  1.78963398, -1.87973743,\n",
       "       -0.75854061, -0.11300305, -0.35083268,  1.65373133,  0.94024245,\n",
       "        0.0228996 , -0.418784  , -1.33612685, -0.58866231, -0.38480834,\n",
       "        1.04216943,  1.55180435,  0.6344615 ,  0.77036414,  0.66843716,\n",
       "        1.04216943, -0.79251627, -1.16624855, -1.57395648, -0.31685702,\n",
       "       -0.28288136, -1.74383479,  0.6344615 ,  0.0228996 ,  0.73638848,\n",
       "        1.68770699,  1.31397472, -1.0303459 ,  1.27999906, -1.81178611,\n",
       "       -0.38480834, -0.69058929, -0.28288136, -0.79251627,  1.8575853 ,\n",
       "        0.09085092, -0.11300305,  0.36265621,  1.58578001, -0.14697871,\n",
       "       -0.96239458, -2.2534697 ,  0.32868055,  0.49855885, -0.07902739,\n",
       "       -0.8604676 ,  1.44987737, -0.45275966, -0.18095437, -0.69058929,\n",
       "        0.53253451,  0.6344615 ,  0.09085092, -0.21493003, -0.14697871,\n",
       "       -0.24890569, -0.8604676 ,  0.12482658, -0.14697871, -0.38480834,\n",
       "        0.6344615 , -1.94768875,  0.6344615 ,  0.56651017, -0.82649193,\n",
       "       -1.09829722,  2.84287948, -0.8604676 , -1.30215119,  0.22675356,\n",
       "        0.12482658, -1.6419078 ,  0.12482658, -0.55468664, -1.87973743,\n",
       "        0.90626679, -1.0303459 , -0.82649193, -0.38480834, -0.11300305,\n",
       "        1.72168266,  1.8575853 , -0.52071098,  0.6344615 , -0.418784  ,\n",
       "       -0.45275966, -1.40407817,  0.12482658,  1.4159017 , -1.53998082,\n",
       "        1.95951228, -1.4720295 ,  0.70241282,  0.77036414, -0.21493003,\n",
       "        0.29470489, -2.35539669,  1.55180435,  0.09085092,  0.66843716,\n",
       "       -1.43805384,  0.15880224, -0.82649193, -1.16624855,  0.60048584,\n",
       "       -1.23419987, -1.6419078 ,  0.97421811, -0.11300305, -0.38480834,\n",
       "       -0.82649193,  0.43060753,  1.2460234 ,  0.87229113,  0.70241282,\n",
       "        0.77036414, -0.31685702,  0.29470489, -0.92841892, -0.8604676 ,\n",
       "       -1.06432156,  0.26072922,  1.31397472,  0.94024245,  0.1927779 ,\n",
       "       -2.2534697 ,  0.26072922, -0.28288136,  1.2460234 , -2.18551838,\n",
       "        1.58578001,  0.12482658, -2.15154272,  0.53253451, -0.24890569,\n",
       "       -0.01107607,  1.82360964, -1.0303459 , -1.67588346,  0.49855885,\n",
       "       -0.69058929, -0.04505173,  0.29470489, -1.0303459 , -0.79251627,\n",
       "       -0.72456495,  1.8575853 , -1.37010251,  0.26072922, -0.38480834,\n",
       "       -0.21493003, -0.35083268,  0.32868055, -0.01107607,  0.49855885,\n",
       "       -0.35083268,  0.26072922,  0.90626679, -0.52071098, -1.09829722,\n",
       "        1.27999906, -1.23419987,  0.70241282,  0.39663187,  1.17807208,\n",
       "        2.23131757, -0.72456495,  0.90626679,  1.44987737,  1.21204774,\n",
       "       -1.84576177,  1.55180435,  0.05687526, -1.0303459 ,  1.07614509,\n",
       "       -0.45275966,  0.1927779 ,  2.16336625,  0.43060753, -0.52071098,\n",
       "       -0.21493003,  0.12482658,  0.66843716, -0.14697871,  0.1927779 ,\n",
       "       -1.50600516,  0.29470489, -0.38480834,  1.51782869,  0.29470489,\n",
       "       -1.23419987,  1.14409642, -0.21493003,  0.0228996 ,  1.27999906,\n",
       "       -0.418784  , -0.07902739,  0.90626679,  0.43060753, -0.82649193])"
      ]
     },
     "execution_count": 9,
     "metadata": {},
     "output_type": "execute_result"
    }
   ],
   "source": [
    "zscore(maledata)"
   ]
  },
  {
   "cell_type": "code",
   "execution_count": 10,
   "id": "cc48c92f",
   "metadata": {},
   "outputs": [
    {
     "data": {
      "text/plain": [
       "array([[-1.72859016, -0.48673532, -0.51843066],\n",
       "       [-1.72166195,  0.0228996 ,  0.84862788],\n",
       "       [-1.71473373, -1.40407817, -0.97411684],\n",
       "       ...,\n",
       "       [ 1.71473373,  0.90626679, -1.04422241],\n",
       "       [ 1.72166195,  0.43060753,  0.32283613],\n",
       "       [ 1.72859016, -0.82649193,  0.25273057]])"
      ]
     },
     "execution_count": 10,
     "metadata": {},
     "output_type": "execute_result"
    }
   ],
   "source": [
    "zscore(df)"
   ]
  },
  {
   "cell_type": "code",
   "execution_count": 26,
   "id": "a394a0b0",
   "metadata": {},
   "outputs": [
    {
     "data": {
      "text/plain": [
       "1.7653381248369335"
      ]
     },
     "execution_count": 26,
     "metadata": {},
     "output_type": "execute_result"
    }
   ],
   "source": [
    "zs = (df['Males'].mean()-166.3)/(df['Males'].std()/(500**0.5))\n",
    "zs"
   ]
  },
  {
   "cell_type": "code",
   "execution_count": 14,
   "id": "bcf88116",
   "metadata": {},
   "outputs": [
    {
     "data": {
      "text/plain": [
       "Serial No.    250.5000\n",
       "Males         166.5326\n",
       "Females       152.8790\n",
       "dtype: float64"
      ]
     },
     "execution_count": 14,
     "metadata": {},
     "output_type": "execute_result"
    }
   ],
   "source": [
    "df.mean()"
   ]
  },
  {
   "cell_type": "code",
   "execution_count": 15,
   "id": "2cf562f9",
   "metadata": {},
   "outputs": [
    {
     "data": {
      "text/plain": [
       "Serial No.    6.461424\n",
       "Males         0.131759\n",
       "Females       0.127711\n",
       "dtype: float64"
      ]
     },
     "execution_count": 15,
     "metadata": {},
     "output_type": "execute_result"
    }
   ],
   "source": [
    "df.sem()"
   ]
  },
  {
   "cell_type": "code",
   "execution_count": 28,
   "id": "dfc33bab",
   "metadata": {},
   "outputs": [
    {
     "data": {
      "text/plain": [
       "1.7653381248369335"
      ]
     },
     "execution_count": 28,
     "metadata": {},
     "output_type": "execute_result"
    }
   ],
   "source": [
    "(df['Males'].mean()-166.3)/df['Males'].sem()"
   ]
  },
  {
   "cell_type": "code",
   "execution_count": 29,
   "id": "6dea7952",
   "metadata": {},
   "outputs": [
    {
     "data": {
      "text/plain": [
       "Serial No.    144.481833\n",
       "Males           2.946231\n",
       "Females         2.855698\n",
       "dtype: float64"
      ]
     },
     "execution_count": 29,
     "metadata": {},
     "output_type": "execute_result"
    }
   ],
   "source": [
    "df.std()"
   ]
  },
  {
   "cell_type": "code",
   "execution_count": 42,
   "id": "0ac1065c",
   "metadata": {},
   "outputs": [
    {
     "ename": "KeyError",
     "evalue": "'Females'",
     "output_type": "error",
     "traceback": [
      "\u001b[1;31m---------------------------------------------------------------------------\u001b[0m",
      "\u001b[1;31mKeyError\u001b[0m                                  Traceback (most recent call last)",
      "\u001b[1;32m<ipython-input-42-56a763c8a6d4>\u001b[0m in \u001b[0;36m<module>\u001b[1;34m\u001b[0m\n\u001b[1;32m----> 1\u001b[1;33m \u001b[0mfzs\u001b[0m \u001b[1;33m=\u001b[0m \u001b[1;33m(\u001b[0m\u001b[0mdf\u001b[0m\u001b[1;33m[\u001b[0m\u001b[1;34m'Females'\u001b[0m\u001b[1;33m]\u001b[0m\u001b[1;33m.\u001b[0m\u001b[0mmean\u001b[0m\u001b[1;33m(\u001b[0m\u001b[1;33m)\u001b[0m\u001b[1;33m-\u001b[0m\u001b[1;36m152.6\u001b[0m\u001b[1;33m)\u001b[0m\u001b[1;33m/\u001b[0m\u001b[1;33m(\u001b[0m\u001b[0mdf\u001b[0m\u001b[1;33m[\u001b[0m\u001b[1;34m'Females'\u001b[0m\u001b[1;33m]\u001b[0m\u001b[1;33m.\u001b[0m\u001b[0msem\u001b[0m\u001b[1;33m(\u001b[0m\u001b[1;33m)\u001b[0m\u001b[1;33m)\u001b[0m\u001b[1;33m\u001b[0m\u001b[1;33m\u001b[0m\u001b[0m\n\u001b[0m\u001b[0;32m      2\u001b[0m \u001b[0mfzs\u001b[0m\u001b[1;33m\u001b[0m\u001b[1;33m\u001b[0m\u001b[0m\n",
      "\u001b[1;32m~\\Anaconda3\\lib\\site-packages\\pandas\\core\\series.py\u001b[0m in \u001b[0;36m__getitem__\u001b[1;34m(self, key)\u001b[0m\n\u001b[0;32m    851\u001b[0m \u001b[1;33m\u001b[0m\u001b[0m\n\u001b[0;32m    852\u001b[0m         \u001b[1;32melif\u001b[0m \u001b[0mkey_is_scalar\u001b[0m\u001b[1;33m:\u001b[0m\u001b[1;33m\u001b[0m\u001b[1;33m\u001b[0m\u001b[0m\n\u001b[1;32m--> 853\u001b[1;33m             \u001b[1;32mreturn\u001b[0m \u001b[0mself\u001b[0m\u001b[1;33m.\u001b[0m\u001b[0m_get_value\u001b[0m\u001b[1;33m(\u001b[0m\u001b[0mkey\u001b[0m\u001b[1;33m)\u001b[0m\u001b[1;33m\u001b[0m\u001b[1;33m\u001b[0m\u001b[0m\n\u001b[0m\u001b[0;32m    854\u001b[0m \u001b[1;33m\u001b[0m\u001b[0m\n\u001b[0;32m    855\u001b[0m         \u001b[1;32mif\u001b[0m \u001b[0mis_hashable\u001b[0m\u001b[1;33m(\u001b[0m\u001b[0mkey\u001b[0m\u001b[1;33m)\u001b[0m\u001b[1;33m:\u001b[0m\u001b[1;33m\u001b[0m\u001b[1;33m\u001b[0m\u001b[0m\n",
      "\u001b[1;32m~\\Anaconda3\\lib\\site-packages\\pandas\\core\\series.py\u001b[0m in \u001b[0;36m_get_value\u001b[1;34m(self, label, takeable)\u001b[0m\n\u001b[0;32m    959\u001b[0m \u001b[1;33m\u001b[0m\u001b[0m\n\u001b[0;32m    960\u001b[0m         \u001b[1;31m# Similar to Index.get_value, but we do not fall back to positional\u001b[0m\u001b[1;33m\u001b[0m\u001b[1;33m\u001b[0m\u001b[1;33m\u001b[0m\u001b[0m\n\u001b[1;32m--> 961\u001b[1;33m         \u001b[0mloc\u001b[0m \u001b[1;33m=\u001b[0m \u001b[0mself\u001b[0m\u001b[1;33m.\u001b[0m\u001b[0mindex\u001b[0m\u001b[1;33m.\u001b[0m\u001b[0mget_loc\u001b[0m\u001b[1;33m(\u001b[0m\u001b[0mlabel\u001b[0m\u001b[1;33m)\u001b[0m\u001b[1;33m\u001b[0m\u001b[1;33m\u001b[0m\u001b[0m\n\u001b[0m\u001b[0;32m    962\u001b[0m         \u001b[1;32mreturn\u001b[0m \u001b[0mself\u001b[0m\u001b[1;33m.\u001b[0m\u001b[0mindex\u001b[0m\u001b[1;33m.\u001b[0m\u001b[0m_get_values_for_loc\u001b[0m\u001b[1;33m(\u001b[0m\u001b[0mself\u001b[0m\u001b[1;33m,\u001b[0m \u001b[0mloc\u001b[0m\u001b[1;33m,\u001b[0m \u001b[0mlabel\u001b[0m\u001b[1;33m)\u001b[0m\u001b[1;33m\u001b[0m\u001b[1;33m\u001b[0m\u001b[0m\n\u001b[0;32m    963\u001b[0m \u001b[1;33m\u001b[0m\u001b[0m\n",
      "\u001b[1;32m~\\Anaconda3\\lib\\site-packages\\pandas\\core\\indexes\\range.py\u001b[0m in \u001b[0;36mget_loc\u001b[1;34m(self, key, method, tolerance)\u001b[0m\n\u001b[0;32m    352\u001b[0m                 \u001b[1;32mexcept\u001b[0m \u001b[0mValueError\u001b[0m \u001b[1;32mas\u001b[0m \u001b[0merr\u001b[0m\u001b[1;33m:\u001b[0m\u001b[1;33m\u001b[0m\u001b[1;33m\u001b[0m\u001b[0m\n\u001b[0;32m    353\u001b[0m                     \u001b[1;32mraise\u001b[0m \u001b[0mKeyError\u001b[0m\u001b[1;33m(\u001b[0m\u001b[0mkey\u001b[0m\u001b[1;33m)\u001b[0m \u001b[1;32mfrom\u001b[0m \u001b[0merr\u001b[0m\u001b[1;33m\u001b[0m\u001b[1;33m\u001b[0m\u001b[0m\n\u001b[1;32m--> 354\u001b[1;33m             \u001b[1;32mraise\u001b[0m \u001b[0mKeyError\u001b[0m\u001b[1;33m(\u001b[0m\u001b[0mkey\u001b[0m\u001b[1;33m)\u001b[0m\u001b[1;33m\u001b[0m\u001b[1;33m\u001b[0m\u001b[0m\n\u001b[0m\u001b[0;32m    355\u001b[0m         \u001b[1;32mreturn\u001b[0m \u001b[0msuper\u001b[0m\u001b[1;33m(\u001b[0m\u001b[1;33m)\u001b[0m\u001b[1;33m.\u001b[0m\u001b[0mget_loc\u001b[0m\u001b[1;33m(\u001b[0m\u001b[0mkey\u001b[0m\u001b[1;33m,\u001b[0m \u001b[0mmethod\u001b[0m\u001b[1;33m=\u001b[0m\u001b[0mmethod\u001b[0m\u001b[1;33m,\u001b[0m \u001b[0mtolerance\u001b[0m\u001b[1;33m=\u001b[0m\u001b[0mtolerance\u001b[0m\u001b[1;33m)\u001b[0m\u001b[1;33m\u001b[0m\u001b[1;33m\u001b[0m\u001b[0m\n\u001b[0;32m    356\u001b[0m \u001b[1;33m\u001b[0m\u001b[0m\n",
      "\u001b[1;31mKeyError\u001b[0m: 'Females'"
     ]
    }
   ],
   "source": [
    "fzs = (df['Females'].mean()-152.6)/(df['Females'].sem())\n",
    "fzs"
   ]
  },
  {
   "cell_type": "code",
   "execution_count": 34,
   "id": "68eee679",
   "metadata": {},
   "outputs": [
    {
     "data": {
      "text/html": [
       "<div>\n",
       "<style scoped>\n",
       "    .dataframe tbody tr th:only-of-type {\n",
       "        vertical-align: middle;\n",
       "    }\n",
       "\n",
       "    .dataframe tbody tr th {\n",
       "        vertical-align: top;\n",
       "    }\n",
       "\n",
       "    .dataframe thead th {\n",
       "        text-align: right;\n",
       "    }\n",
       "</style>\n",
       "<table border=\"1\" class=\"dataframe\">\n",
       "  <thead>\n",
       "    <tr style=\"text-align: right;\">\n",
       "      <th></th>\n",
       "      <th>Customer No.</th>\n",
       "      <th>Time taken in mins</th>\n",
       "    </tr>\n",
       "  </thead>\n",
       "  <tbody>\n",
       "    <tr>\n",
       "      <th>0</th>\n",
       "      <td>1</td>\n",
       "      <td>15.80</td>\n",
       "    </tr>\n",
       "    <tr>\n",
       "      <th>1</th>\n",
       "      <td>2</td>\n",
       "      <td>15.31</td>\n",
       "    </tr>\n",
       "    <tr>\n",
       "      <th>2</th>\n",
       "      <td>3</td>\n",
       "      <td>14.84</td>\n",
       "    </tr>\n",
       "    <tr>\n",
       "      <th>3</th>\n",
       "      <td>4</td>\n",
       "      <td>15.75</td>\n",
       "    </tr>\n",
       "    <tr>\n",
       "      <th>4</th>\n",
       "      <td>5</td>\n",
       "      <td>14.26</td>\n",
       "    </tr>\n",
       "    <tr>\n",
       "      <th>5</th>\n",
       "      <td>6</td>\n",
       "      <td>15.20</td>\n",
       "    </tr>\n",
       "    <tr>\n",
       "      <th>6</th>\n",
       "      <td>7</td>\n",
       "      <td>15.12</td>\n",
       "    </tr>\n",
       "    <tr>\n",
       "      <th>7</th>\n",
       "      <td>8</td>\n",
       "      <td>15.39</td>\n",
       "    </tr>\n",
       "    <tr>\n",
       "      <th>8</th>\n",
       "      <td>9</td>\n",
       "      <td>13.31</td>\n",
       "    </tr>\n",
       "    <tr>\n",
       "      <th>9</th>\n",
       "      <td>10</td>\n",
       "      <td>13.19</td>\n",
       "    </tr>\n",
       "    <tr>\n",
       "      <th>10</th>\n",
       "      <td>11</td>\n",
       "      <td>14.89</td>\n",
       "    </tr>\n",
       "    <tr>\n",
       "      <th>11</th>\n",
       "      <td>12</td>\n",
       "      <td>15.42</td>\n",
       "    </tr>\n",
       "    <tr>\n",
       "      <th>12</th>\n",
       "      <td>13</td>\n",
       "      <td>15.49</td>\n",
       "    </tr>\n",
       "    <tr>\n",
       "      <th>13</th>\n",
       "      <td>14</td>\n",
       "      <td>14.77</td>\n",
       "    </tr>\n",
       "    <tr>\n",
       "      <th>14</th>\n",
       "      <td>15</td>\n",
       "      <td>13.45</td>\n",
       "    </tr>\n",
       "    <tr>\n",
       "      <th>15</th>\n",
       "      <td>16</td>\n",
       "      <td>15.18</td>\n",
       "    </tr>\n",
       "    <tr>\n",
       "      <th>16</th>\n",
       "      <td>17</td>\n",
       "      <td>14.36</td>\n",
       "    </tr>\n",
       "    <tr>\n",
       "      <th>17</th>\n",
       "      <td>18</td>\n",
       "      <td>15.35</td>\n",
       "    </tr>\n",
       "    <tr>\n",
       "      <th>18</th>\n",
       "      <td>19</td>\n",
       "      <td>14.47</td>\n",
       "    </tr>\n",
       "    <tr>\n",
       "      <th>19</th>\n",
       "      <td>20</td>\n",
       "      <td>17.01</td>\n",
       "    </tr>\n",
       "    <tr>\n",
       "      <th>20</th>\n",
       "      <td>21</td>\n",
       "      <td>14.65</td>\n",
       "    </tr>\n",
       "    <tr>\n",
       "      <th>21</th>\n",
       "      <td>22</td>\n",
       "      <td>15.58</td>\n",
       "    </tr>\n",
       "    <tr>\n",
       "      <th>22</th>\n",
       "      <td>23</td>\n",
       "      <td>14.78</td>\n",
       "    </tr>\n",
       "    <tr>\n",
       "      <th>23</th>\n",
       "      <td>24</td>\n",
       "      <td>15.82</td>\n",
       "    </tr>\n",
       "    <tr>\n",
       "      <th>24</th>\n",
       "      <td>25</td>\n",
       "      <td>15.77</td>\n",
       "    </tr>\n",
       "    <tr>\n",
       "      <th>25</th>\n",
       "      <td>26</td>\n",
       "      <td>14.73</td>\n",
       "    </tr>\n",
       "    <tr>\n",
       "      <th>26</th>\n",
       "      <td>27</td>\n",
       "      <td>16.65</td>\n",
       "    </tr>\n",
       "    <tr>\n",
       "      <th>27</th>\n",
       "      <td>28</td>\n",
       "      <td>14.83</td>\n",
       "    </tr>\n",
       "    <tr>\n",
       "      <th>28</th>\n",
       "      <td>29</td>\n",
       "      <td>14.68</td>\n",
       "    </tr>\n",
       "    <tr>\n",
       "      <th>29</th>\n",
       "      <td>30</td>\n",
       "      <td>15.15</td>\n",
       "    </tr>\n",
       "    <tr>\n",
       "      <th>30</th>\n",
       "      <td>31</td>\n",
       "      <td>16.52</td>\n",
       "    </tr>\n",
       "    <tr>\n",
       "      <th>31</th>\n",
       "      <td>32</td>\n",
       "      <td>14.35</td>\n",
       "    </tr>\n",
       "    <tr>\n",
       "      <th>32</th>\n",
       "      <td>33</td>\n",
       "      <td>15.90</td>\n",
       "    </tr>\n",
       "    <tr>\n",
       "      <th>33</th>\n",
       "      <td>34</td>\n",
       "      <td>15.95</td>\n",
       "    </tr>\n",
       "    <tr>\n",
       "      <th>34</th>\n",
       "      <td>35</td>\n",
       "      <td>15.84</td>\n",
       "    </tr>\n",
       "    <tr>\n",
       "      <th>35</th>\n",
       "      <td>36</td>\n",
       "      <td>13.59</td>\n",
       "    </tr>\n",
       "    <tr>\n",
       "      <th>36</th>\n",
       "      <td>37</td>\n",
       "      <td>15.10</td>\n",
       "    </tr>\n",
       "    <tr>\n",
       "      <th>37</th>\n",
       "      <td>38</td>\n",
       "      <td>15.33</td>\n",
       "    </tr>\n",
       "    <tr>\n",
       "      <th>38</th>\n",
       "      <td>39</td>\n",
       "      <td>15.48</td>\n",
       "    </tr>\n",
       "    <tr>\n",
       "      <th>39</th>\n",
       "      <td>40</td>\n",
       "      <td>16.66</td>\n",
       "    </tr>\n",
       "    <tr>\n",
       "      <th>40</th>\n",
       "      <td>41</td>\n",
       "      <td>15.59</td>\n",
       "    </tr>\n",
       "    <tr>\n",
       "      <th>41</th>\n",
       "      <td>42</td>\n",
       "      <td>15.85</td>\n",
       "    </tr>\n",
       "    <tr>\n",
       "      <th>42</th>\n",
       "      <td>43</td>\n",
       "      <td>14.82</td>\n",
       "    </tr>\n",
       "    <tr>\n",
       "      <th>43</th>\n",
       "      <td>44</td>\n",
       "      <td>16.08</td>\n",
       "    </tr>\n",
       "    <tr>\n",
       "      <th>44</th>\n",
       "      <td>45</td>\n",
       "      <td>16.95</td>\n",
       "    </tr>\n",
       "  </tbody>\n",
       "</table>\n",
       "</div>"
      ],
      "text/plain": [
       "    Customer No.  Time taken in mins\n",
       "0              1               15.80\n",
       "1              2               15.31\n",
       "2              3               14.84\n",
       "3              4               15.75\n",
       "4              5               14.26\n",
       "5              6               15.20\n",
       "6              7               15.12\n",
       "7              8               15.39\n",
       "8              9               13.31\n",
       "9             10               13.19\n",
       "10            11               14.89\n",
       "11            12               15.42\n",
       "12            13               15.49\n",
       "13            14               14.77\n",
       "14            15               13.45\n",
       "15            16               15.18\n",
       "16            17               14.36\n",
       "17            18               15.35\n",
       "18            19               14.47\n",
       "19            20               17.01\n",
       "20            21               14.65\n",
       "21            22               15.58\n",
       "22            23               14.78\n",
       "23            24               15.82\n",
       "24            25               15.77\n",
       "25            26               14.73\n",
       "26            27               16.65\n",
       "27            28               14.83\n",
       "28            29               14.68\n",
       "29            30               15.15\n",
       "30            31               16.52\n",
       "31            32               14.35\n",
       "32            33               15.90\n",
       "33            34               15.95\n",
       "34            35               15.84\n",
       "35            36               13.59\n",
       "36            37               15.10\n",
       "37            38               15.33\n",
       "38            39               15.48\n",
       "39            40               16.66\n",
       "40            41               15.59\n",
       "41            42               15.85\n",
       "42            43               14.82\n",
       "43            44               16.08\n",
       "44            45               16.95"
      ]
     },
     "execution_count": 34,
     "metadata": {},
     "output_type": "execute_result"
    }
   ],
   "source": [
    "df = pd.read_excel('C:\\\\Users\\\\PrabhakaranS\\\\Downloads\\\\Customer+Service+Time.xlsx')\n",
    "df"
   ]
  },
  {
   "cell_type": "code",
   "execution_count": 35,
   "id": "204cae1e",
   "metadata": {},
   "outputs": [],
   "source": [
    "df = df['Time taken in mins']"
   ]
  },
  {
   "cell_type": "code",
   "execution_count": 36,
   "id": "51df4aed",
   "metadata": {},
   "outputs": [
    {
     "data": {
      "text/plain": [
       "0     15.80\n",
       "1     15.31\n",
       "2     14.84\n",
       "3     15.75\n",
       "4     14.26\n",
       "5     15.20\n",
       "6     15.12\n",
       "7     15.39\n",
       "8     13.31\n",
       "9     13.19\n",
       "10    14.89\n",
       "11    15.42\n",
       "12    15.49\n",
       "13    14.77\n",
       "14    13.45\n",
       "15    15.18\n",
       "16    14.36\n",
       "17    15.35\n",
       "18    14.47\n",
       "19    17.01\n",
       "20    14.65\n",
       "21    15.58\n",
       "22    14.78\n",
       "23    15.82\n",
       "24    15.77\n",
       "25    14.73\n",
       "26    16.65\n",
       "27    14.83\n",
       "28    14.68\n",
       "29    15.15\n",
       "30    16.52\n",
       "31    14.35\n",
       "32    15.90\n",
       "33    15.95\n",
       "34    15.84\n",
       "35    13.59\n",
       "36    15.10\n",
       "37    15.33\n",
       "38    15.48\n",
       "39    16.66\n",
       "40    15.59\n",
       "41    15.85\n",
       "42    14.82\n",
       "43    16.08\n",
       "44    16.95\n",
       "Name: Time taken in mins, dtype: float64"
      ]
     },
     "execution_count": 36,
     "metadata": {},
     "output_type": "execute_result"
    }
   ],
   "source": [
    "df"
   ]
  },
  {
   "cell_type": "code",
   "execution_count": 37,
   "id": "a35e145b",
   "metadata": {},
   "outputs": [
    {
     "data": {
      "text/plain": [
       "15.226888888888896"
      ]
     },
     "execution_count": 37,
     "metadata": {},
     "output_type": "execute_result"
    }
   ],
   "source": [
    "df.mean()"
   ]
  },
  {
   "cell_type": "code",
   "execution_count": 38,
   "id": "a85f2b65",
   "metadata": {},
   "outputs": [
    {
     "data": {
      "text/plain": [
       "0.8880669052964582"
      ]
     },
     "execution_count": 38,
     "metadata": {},
     "output_type": "execute_result"
    }
   ],
   "source": [
    "df.std()"
   ]
  },
  {
   "cell_type": "code",
   "execution_count": 39,
   "id": "a3ef07be",
   "metadata": {},
   "outputs": [],
   "source": [
    "se = df.std()/df.count()"
   ]
  },
  {
   "cell_type": "code",
   "execution_count": 40,
   "id": "a6eaa9d0",
   "metadata": {},
   "outputs": [
    {
     "data": {
      "text/plain": [
       "0.01973482011769907"
      ]
     },
     "execution_count": 40,
     "metadata": {},
     "output_type": "execute_result"
    }
   ],
   "source": [
    "se"
   ]
  },
  {
   "cell_type": "code",
   "execution_count": 41,
   "id": "258becb6",
   "metadata": {},
   "outputs": [
    {
     "data": {
      "text/plain": [
       "0.13238519792071657"
      ]
     },
     "execution_count": 41,
     "metadata": {},
     "output_type": "execute_result"
    }
   ],
   "source": [
    "df.sem()"
   ]
  },
  {
   "cell_type": "code",
   "execution_count": 43,
   "id": "b9f7c56b",
   "metadata": {},
   "outputs": [
    {
     "data": {
      "text/plain": [
       "1.7138539085372353"
      ]
     },
     "execution_count": 43,
     "metadata": {},
     "output_type": "execute_result"
    }
   ],
   "source": [
    "(df.mean()-15)/df.sem()"
   ]
  },
  {
   "cell_type": "code",
   "execution_count": 1,
   "id": "8e73b2f1",
   "metadata": {},
   "outputs": [],
   "source": [
    "import pandas as pd\n",
    "sp = pd.read_excel('C:\\\\Users\\\\PrabhakaranS\\\\Downloads\\\\Practice+Dataset+-+Module+3+Session+1.xlsx')"
   ]
  },
  {
   "cell_type": "code",
   "execution_count": 2,
   "id": "0ffceb68",
   "metadata": {},
   "outputs": [
    {
     "data": {
      "text/html": [
       "<div>\n",
       "<style scoped>\n",
       "    .dataframe tbody tr th:only-of-type {\n",
       "        vertical-align: middle;\n",
       "    }\n",
       "\n",
       "    .dataframe tbody tr th {\n",
       "        vertical-align: top;\n",
       "    }\n",
       "\n",
       "    .dataframe thead th {\n",
       "        text-align: right;\n",
       "    }\n",
       "</style>\n",
       "<table border=\"1\" class=\"dataframe\">\n",
       "  <thead>\n",
       "    <tr style=\"text-align: right;\">\n",
       "      <th></th>\n",
       "      <th>Date</th>\n",
       "      <th>Sensex</th>\n",
       "      <th>NIFTY</th>\n",
       "    </tr>\n",
       "  </thead>\n",
       "  <tbody>\n",
       "    <tr>\n",
       "      <th>0</th>\n",
       "      <td>2020-01-16</td>\n",
       "      <td>34771.05</td>\n",
       "      <td>10700.45</td>\n",
       "    </tr>\n",
       "    <tr>\n",
       "      <th>1</th>\n",
       "      <td>2020-01-17</td>\n",
       "      <td>35081.82</td>\n",
       "      <td>10788.55</td>\n",
       "    </tr>\n",
       "    <tr>\n",
       "      <th>2</th>\n",
       "      <td>2020-01-18</td>\n",
       "      <td>35260.29</td>\n",
       "      <td>10817.00</td>\n",
       "    </tr>\n",
       "    <tr>\n",
       "      <th>3</th>\n",
       "      <td>2020-01-19</td>\n",
       "      <td>35511.58</td>\n",
       "      <td>10894.70</td>\n",
       "    </tr>\n",
       "    <tr>\n",
       "      <th>4</th>\n",
       "      <td>2020-01-22</td>\n",
       "      <td>35798.01</td>\n",
       "      <td>10966.20</td>\n",
       "    </tr>\n",
       "    <tr>\n",
       "      <th>5</th>\n",
       "      <td>2020-01-23</td>\n",
       "      <td>36139.98</td>\n",
       "      <td>11083.70</td>\n",
       "    </tr>\n",
       "    <tr>\n",
       "      <th>6</th>\n",
       "      <td>2020-01-24</td>\n",
       "      <td>36161.64</td>\n",
       "      <td>11086.00</td>\n",
       "    </tr>\n",
       "    <tr>\n",
       "      <th>7</th>\n",
       "      <td>2020-01-25</td>\n",
       "      <td>36050.44</td>\n",
       "      <td>11069.65</td>\n",
       "    </tr>\n",
       "    <tr>\n",
       "      <th>8</th>\n",
       "      <td>2020-01-29</td>\n",
       "      <td>36283.25</td>\n",
       "      <td>11130.40</td>\n",
       "    </tr>\n",
       "    <tr>\n",
       "      <th>9</th>\n",
       "      <td>2020-01-30</td>\n",
       "      <td>36033.73</td>\n",
       "      <td>11049.65</td>\n",
       "    </tr>\n",
       "    <tr>\n",
       "      <th>10</th>\n",
       "      <td>2020-01-31</td>\n",
       "      <td>35965.02</td>\n",
       "      <td>11027.70</td>\n",
       "    </tr>\n",
       "  </tbody>\n",
       "</table>\n",
       "</div>"
      ],
      "text/plain": [
       "         Date    Sensex     NIFTY\n",
       "0  2020-01-16  34771.05  10700.45\n",
       "1  2020-01-17  35081.82  10788.55\n",
       "2  2020-01-18  35260.29  10817.00\n",
       "3  2020-01-19  35511.58  10894.70\n",
       "4  2020-01-22  35798.01  10966.20\n",
       "5  2020-01-23  36139.98  11083.70\n",
       "6  2020-01-24  36161.64  11086.00\n",
       "7  2020-01-25  36050.44  11069.65\n",
       "8  2020-01-29  36283.25  11130.40\n",
       "9  2020-01-30  36033.73  11049.65\n",
       "10 2020-01-31  35965.02  11027.70"
      ]
     },
     "execution_count": 2,
     "metadata": {},
     "output_type": "execute_result"
    }
   ],
   "source": [
    "sp"
   ]
  },
  {
   "cell_type": "code",
   "execution_count": 3,
   "id": "d4e418e1",
   "metadata": {},
   "outputs": [
    {
     "data": {
      "text/plain": [
       "<AxesSubplot:xlabel='Sensex', ylabel='NIFTY'>"
      ]
     },
     "execution_count": 3,
     "metadata": {},
     "output_type": "execute_result"
    },
    {
     "data": {
      "image/png": "[encoded data removed]",
      "text/plain": [
       "<Figure size 432x288 with 1 Axes>"
      ]
     },
     "metadata": {
      "needs_background": "light"
     },
     "output_type": "display_data"
    }
   ],
   "source": [
    "sp.plot.scatter('Sensex','NIFTY')"
   ]
  },
  {
   "cell_type": "code",
   "execution_count": 7,
   "id": "bf840674",
   "metadata": {},
   "outputs": [
    {
     "data": {
      "text/html": [
       "<div>\n",
       "<style scoped>\n",
       "    .dataframe tbody tr th:only-of-type {\n",
       "        vertical-align: middle;\n",
       "    }\n",
       "\n",
       "    .dataframe tbody tr th {\n",
       "        vertical-align: top;\n",
       "    }\n",
       "\n",
       "    .dataframe thead th {\n",
       "        text-align: right;\n",
       "    }\n",
       "</style>\n",
       "<table border=\"1\" class=\"dataframe\">\n",
       "  <thead>\n",
       "    <tr style=\"text-align: right;\">\n",
       "      <th></th>\n",
       "      <th>Sensex</th>\n",
       "      <th>NIFTY</th>\n",
       "    </tr>\n",
       "  </thead>\n",
       "  <tbody>\n",
       "    <tr>\n",
       "      <th>Sensex</th>\n",
       "      <td>252326.757162</td>\n",
       "      <td>71939.879927</td>\n",
       "    </tr>\n",
       "    <tr>\n",
       "      <th>NIFTY</th>\n",
       "      <td>71939.879927</td>\n",
       "      <td>20610.512909</td>\n",
       "    </tr>\n",
       "  </tbody>\n",
       "</table>\n",
       "</div>"
      ],
      "text/plain": [
       "               Sensex         NIFTY\n",
       "Sensex  252326.757162  71939.879927\n",
       "NIFTY    71939.879927  20610.512909"
      ]
     },
     "execution_count": 7,
     "metadata": {},
     "output_type": "execute_result"
    }
   ],
   "source": [
    "sp.cov()"
   ]
  },
  {
   "cell_type": "code",
   "execution_count": 11,
   "id": "1f344b98",
   "metadata": {},
   "outputs": [
    {
     "data": {
      "text/plain": [
       "252326.7571618179"
      ]
     },
     "execution_count": 11,
     "metadata": {},
     "output_type": "execute_result"
    }
   ],
   "source": [
    "sp.Sensex.cov(sp.Sensex)"
   ]
  },
  {
   "cell_type": "code",
   "execution_count": 12,
   "id": "f7a131a6",
   "metadata": {},
   "outputs": [
    {
     "data": {
      "text/html": [
       "<div>\n",
       "<style scoped>\n",
       "    .dataframe tbody tr th:only-of-type {\n",
       "        vertical-align: middle;\n",
       "    }\n",
       "\n",
       "    .dataframe tbody tr th {\n",
       "        vertical-align: top;\n",
       "    }\n",
       "\n",
       "    .dataframe thead th {\n",
       "        text-align: right;\n",
       "    }\n",
       "</style>\n",
       "<table border=\"1\" class=\"dataframe\">\n",
       "  <thead>\n",
       "    <tr style=\"text-align: right;\">\n",
       "      <th></th>\n",
       "      <th>Sensex</th>\n",
       "      <th>NIFTY</th>\n",
       "    </tr>\n",
       "  </thead>\n",
       "  <tbody>\n",
       "    <tr>\n",
       "      <th>Sensex</th>\n",
       "      <td>1.000000</td>\n",
       "      <td>0.997571</td>\n",
       "    </tr>\n",
       "    <tr>\n",
       "      <th>NIFTY</th>\n",
       "      <td>0.997571</td>\n",
       "      <td>1.000000</td>\n",
       "    </tr>\n",
       "  </tbody>\n",
       "</table>\n",
       "</div>"
      ],
      "text/plain": [
       "          Sensex     NIFTY\n",
       "Sensex  1.000000  0.997571\n",
       "NIFTY   0.997571  1.000000"
      ]
     },
     "execution_count": 12,
     "metadata": {},
     "output_type": "execute_result"
    }
   ],
   "source": [
    "sp.corr()"
   ]
  },
  {
   "cell_type": "code",
   "execution_count": 15,
   "id": "2f38235f",
   "metadata": {},
   "outputs": [],
   "source": [
    "smkt = pd.read_excel('C:\\\\Users\\\\PrabhakaranS\\\\Downloads\\\\Practice+Dataset+-+Module+3+Session+1.4.xlsx')"
   ]
  },
  {
   "cell_type": "code",
   "execution_count": 25,
   "id": "58a26883",
   "metadata": {},
   "outputs": [],
   "source": [
    "smkt = smkt.iloc[:,1:]"
   ]
  },
  {
   "cell_type": "code",
   "execution_count": 27,
   "id": "66ebfd34",
   "metadata": {},
   "outputs": [
    {
     "data": {
      "text/plain": [
       "<AxesSubplot:>"
      ]
     },
     "execution_count": 27,
     "metadata": {},
     "output_type": "execute_result"
    },
    {
     "data": {
      "image/png": "[encoded data removed]",
      "text/plain": [
       "<Figure size 432x288 with 1 Axes>"
      ]
     },
     "metadata": {
      "needs_background": "light"
     },
     "output_type": "display_data"
    }
   ],
   "source": [
    "smkt.plot.line()"
   ]
  },
  {
   "cell_type": "code",
   "execution_count": 28,
   "id": "f1e30e87",
   "metadata": {},
   "outputs": [
    {
     "data": {
      "text/html": [
       "<div>\n",
       "<style scoped>\n",
       "    .dataframe tbody tr th:only-of-type {\n",
       "        vertical-align: middle;\n",
       "    }\n",
       "\n",
       "    .dataframe tbody tr th {\n",
       "        vertical-align: top;\n",
       "    }\n",
       "\n",
       "    .dataframe thead th {\n",
       "        text-align: right;\n",
       "    }\n",
       "</style>\n",
       "<table border=\"1\" class=\"dataframe\">\n",
       "  <thead>\n",
       "    <tr style=\"text-align: right;\">\n",
       "      <th></th>\n",
       "      <th>C1</th>\n",
       "      <th>C2</th>\n",
       "      <th>C3</th>\n",
       "    </tr>\n",
       "  </thead>\n",
       "  <tbody>\n",
       "    <tr>\n",
       "      <th>C1</th>\n",
       "      <td>0.003049</td>\n",
       "      <td>0.002293</td>\n",
       "      <td>-0.000333</td>\n",
       "    </tr>\n",
       "    <tr>\n",
       "      <th>C2</th>\n",
       "      <td>0.002293</td>\n",
       "      <td>0.001877</td>\n",
       "      <td>0.000261</td>\n",
       "    </tr>\n",
       "    <tr>\n",
       "      <th>C3</th>\n",
       "      <td>-0.000333</td>\n",
       "      <td>0.000261</td>\n",
       "      <td>0.003339</td>\n",
       "    </tr>\n",
       "  </tbody>\n",
       "</table>\n",
       "</div>"
      ],
      "text/plain": [
       "          C1        C2        C3\n",
       "C1  0.003049  0.002293 -0.000333\n",
       "C2  0.002293  0.001877  0.000261\n",
       "C3 -0.000333  0.000261  0.003339"
      ]
     },
     "execution_count": 28,
     "metadata": {},
     "output_type": "execute_result"
    }
   ],
   "source": [
    "smkt.cov()"
   ]
  },
  {
   "cell_type": "code",
   "execution_count": 29,
   "id": "df42e93e",
   "metadata": {},
   "outputs": [
    {
     "data": {
      "text/html": [
       "<div>\n",
       "<style scoped>\n",
       "    .dataframe tbody tr th:only-of-type {\n",
       "        vertical-align: middle;\n",
       "    }\n",
       "\n",
       "    .dataframe tbody tr th {\n",
       "        vertical-align: top;\n",
       "    }\n",
       "\n",
       "    .dataframe thead th {\n",
       "        text-align: right;\n",
       "    }\n",
       "</style>\n",
       "<table border=\"1\" class=\"dataframe\">\n",
       "  <thead>\n",
       "    <tr style=\"text-align: right;\">\n",
       "      <th></th>\n",
       "      <th>C1</th>\n",
       "      <th>C2</th>\n",
       "      <th>C3</th>\n",
       "    </tr>\n",
       "  </thead>\n",
       "  <tbody>\n",
       "    <tr>\n",
       "      <th>C1</th>\n",
       "      <td>1.000000</td>\n",
       "      <td>0.958744</td>\n",
       "      <td>-0.104474</td>\n",
       "    </tr>\n",
       "    <tr>\n",
       "      <th>C2</th>\n",
       "      <td>0.958744</td>\n",
       "      <td>1.000000</td>\n",
       "      <td>0.104311</td>\n",
       "    </tr>\n",
       "    <tr>\n",
       "      <th>C3</th>\n",
       "      <td>-0.104474</td>\n",
       "      <td>0.104311</td>\n",
       "      <td>1.000000</td>\n",
       "    </tr>\n",
       "  </tbody>\n",
       "</table>\n",
       "</div>"
      ],
      "text/plain": [
       "          C1        C2        C3\n",
       "C1  1.000000  0.958744 -0.104474\n",
       "C2  0.958744  1.000000  0.104311\n",
       "C3 -0.104474  0.104311  1.000000"
      ]
     },
     "execution_count": 29,
     "metadata": {},
     "output_type": "execute_result"
    }
   ],
   "source": [
    "smkt.corr()"
   ]
  },
  {
   "cell_type": "code",
   "execution_count": 34,
   "id": "7e9cb68c",
   "metadata": {},
   "outputs": [
    {
     "data": {
      "text/html": [
       "<div>\n",
       "<style scoped>\n",
       "    .dataframe tbody tr th:only-of-type {\n",
       "        vertical-align: middle;\n",
       "    }\n",
       "\n",
       "    .dataframe tbody tr th {\n",
       "        vertical-align: top;\n",
       "    }\n",
       "\n",
       "    .dataframe thead th {\n",
       "        text-align: right;\n",
       "    }\n",
       "</style>\n",
       "<table border=\"1\" class=\"dataframe\">\n",
       "  <thead>\n",
       "    <tr style=\"text-align: right;\">\n",
       "      <th></th>\n",
       "      <th>Avg. Temperature (In C)</th>\n",
       "      <th>Social Activities/Festivals (%)</th>\n",
       "      <th>Spends (In bn GBP)</th>\n",
       "    </tr>\n",
       "  </thead>\n",
       "  <tbody>\n",
       "    <tr>\n",
       "      <th>0</th>\n",
       "      <td>6.4</td>\n",
       "      <td>0.92</td>\n",
       "      <td>51.03</td>\n",
       "    </tr>\n",
       "    <tr>\n",
       "      <th>1</th>\n",
       "      <td>6.6</td>\n",
       "      <td>0.75</td>\n",
       "      <td>45.70</td>\n",
       "    </tr>\n",
       "    <tr>\n",
       "      <th>2</th>\n",
       "      <td>9.1</td>\n",
       "      <td>0.63</td>\n",
       "      <td>39.23</td>\n",
       "    </tr>\n",
       "    <tr>\n",
       "      <th>3</th>\n",
       "      <td>11.8</td>\n",
       "      <td>0.35</td>\n",
       "      <td>37.20</td>\n",
       "    </tr>\n",
       "    <tr>\n",
       "      <th>4</th>\n",
       "      <td>15.6</td>\n",
       "      <td>0.20</td>\n",
       "      <td>32.87</td>\n",
       "    </tr>\n",
       "    <tr>\n",
       "      <th>5</th>\n",
       "      <td>18.6</td>\n",
       "      <td>0.20</td>\n",
       "      <td>33.05</td>\n",
       "    </tr>\n",
       "    <tr>\n",
       "      <th>6</th>\n",
       "      <td>20.4</td>\n",
       "      <td>0.26</td>\n",
       "      <td>34.56</td>\n",
       "    </tr>\n",
       "    <tr>\n",
       "      <th>7</th>\n",
       "      <td>20.1</td>\n",
       "      <td>0.20</td>\n",
       "      <td>34.05</td>\n",
       "    </tr>\n",
       "    <tr>\n",
       "      <th>8</th>\n",
       "      <td>17.5</td>\n",
       "      <td>0.17</td>\n",
       "      <td>35.70</td>\n",
       "    </tr>\n",
       "    <tr>\n",
       "      <th>9</th>\n",
       "      <td>14.0</td>\n",
       "      <td>0.25</td>\n",
       "      <td>34.78</td>\n",
       "    </tr>\n",
       "    <tr>\n",
       "      <th>10</th>\n",
       "      <td>9.4</td>\n",
       "      <td>0.35</td>\n",
       "      <td>39.45</td>\n",
       "    </tr>\n",
       "    <tr>\n",
       "      <th>11</th>\n",
       "      <td>7.3</td>\n",
       "      <td>0.89</td>\n",
       "      <td>45.78</td>\n",
       "    </tr>\n",
       "  </tbody>\n",
       "</table>\n",
       "</div>"
      ],
      "text/plain": [
       "    Avg. Temperature (In C)  Social Activities/Festivals (%)  \\\n",
       "0                       6.4                             0.92   \n",
       "1                       6.6                             0.75   \n",
       "2                       9.1                             0.63   \n",
       "3                      11.8                             0.35   \n",
       "4                      15.6                             0.20   \n",
       "5                      18.6                             0.20   \n",
       "6                      20.4                             0.26   \n",
       "7                      20.1                             0.20   \n",
       "8                      17.5                             0.17   \n",
       "9                      14.0                             0.25   \n",
       "10                      9.4                             0.35   \n",
       "11                      7.3                             0.89   \n",
       "\n",
       "    Spends (In bn GBP)  \n",
       "0                51.03  \n",
       "1                45.70  \n",
       "2                39.23  \n",
       "3                37.20  \n",
       "4                32.87  \n",
       "5                33.05  \n",
       "6                34.56  \n",
       "7                34.05  \n",
       "8                35.70  \n",
       "9                34.78  \n",
       "10               39.45  \n",
       "11               45.78  "
      ]
     },
     "execution_count": 34,
     "metadata": {},
     "output_type": "execute_result"
    }
   ],
   "source": [
    "retail = pd.read_excel('C:\\\\Users\\\\PrabhakaranS\\\\Downloads\\\\Practice+Sheet+for+Covariance_Correlation.xlsx', usecols = (\"B:D\"), skiprows=0)\n",
    "retail"
   ]
  },
  {
   "cell_type": "code",
   "execution_count": 35,
   "id": "ab7ef02f",
   "metadata": {},
   "outputs": [
    {
     "data": {
      "text/html": [
       "<div>\n",
       "<style scoped>\n",
       "    .dataframe tbody tr th:only-of-type {\n",
       "        vertical-align: middle;\n",
       "    }\n",
       "\n",
       "    .dataframe tbody tr th {\n",
       "        vertical-align: top;\n",
       "    }\n",
       "\n",
       "    .dataframe thead th {\n",
       "        text-align: right;\n",
       "    }\n",
       "</style>\n",
       "<table border=\"1\" class=\"dataframe\">\n",
       "  <thead>\n",
       "    <tr style=\"text-align: right;\">\n",
       "      <th></th>\n",
       "      <th>Avg. Temperature (In C)</th>\n",
       "      <th>Social Activities/Festivals (%)</th>\n",
       "      <th>Spends (In bn GBP)</th>\n",
       "    </tr>\n",
       "  </thead>\n",
       "  <tbody>\n",
       "    <tr>\n",
       "      <th>Avg. Temperature (In C)</th>\n",
       "      <td>28.282424</td>\n",
       "      <td>-1.311606</td>\n",
       "      <td>-27.027576</td>\n",
       "    </tr>\n",
       "    <tr>\n",
       "      <th>Social Activities/Festivals (%)</th>\n",
       "      <td>-1.311606</td>\n",
       "      <td>0.081317</td>\n",
       "      <td>1.600421</td>\n",
       "    </tr>\n",
       "    <tr>\n",
       "      <th>Spends (In bn GBP)</th>\n",
       "      <td>-27.027576</td>\n",
       "      <td>1.600421</td>\n",
       "      <td>34.836842</td>\n",
       "    </tr>\n",
       "  </tbody>\n",
       "</table>\n",
       "</div>"
      ],
      "text/plain": [
       "                                 Avg. Temperature (In C)  \\\n",
       "Avg. Temperature (In C)                        28.282424   \n",
       "Social Activities/Festivals (%)                -1.311606   \n",
       "Spends (In bn GBP)                            -27.027576   \n",
       "\n",
       "                                 Social Activities/Festivals (%)  \\\n",
       "Avg. Temperature (In C)                                -1.311606   \n",
       "Social Activities/Festivals (%)                         0.081317   \n",
       "Spends (In bn GBP)                                      1.600421   \n",
       "\n",
       "                                 Spends (In bn GBP)  \n",
       "Avg. Temperature (In C)                  -27.027576  \n",
       "Social Activities/Festivals (%)            1.600421  \n",
       "Spends (In bn GBP)                        34.836842  "
      ]
     },
     "execution_count": 35,
     "metadata": {},
     "output_type": "execute_result"
    }
   ],
   "source": [
    "retail.cov()"
   ]
  },
  {
   "cell_type": "code",
   "execution_count": 42,
   "id": "06efeea8",
   "metadata": {},
   "outputs": [
    {
     "data": {
      "text/html": [
       "<div>\n",
       "<style scoped>\n",
       "    .dataframe tbody tr th:only-of-type {\n",
       "        vertical-align: middle;\n",
       "    }\n",
       "\n",
       "    .dataframe tbody tr th {\n",
       "        vertical-align: top;\n",
       "    }\n",
       "\n",
       "    .dataframe thead th {\n",
       "        text-align: right;\n",
       "    }\n",
       "</style>\n",
       "<table border=\"1\" class=\"dataframe\">\n",
       "  <thead>\n",
       "    <tr style=\"text-align: right;\">\n",
       "      <th></th>\n",
       "      <th>Avg. Temperature (In C)</th>\n",
       "      <th>Social Activities/Festivals (%)</th>\n",
       "      <th>Spends (In bn GBP)</th>\n",
       "    </tr>\n",
       "  </thead>\n",
       "  <tbody>\n",
       "    <tr>\n",
       "      <th>Avg. Temperature (In C)</th>\n",
       "      <td>1.000000</td>\n",
       "      <td>-0.864875</td>\n",
       "      <td>-0.861052</td>\n",
       "    </tr>\n",
       "    <tr>\n",
       "      <th>Social Activities/Festivals (%)</th>\n",
       "      <td>-0.864875</td>\n",
       "      <td>1.000000</td>\n",
       "      <td>0.950874</td>\n",
       "    </tr>\n",
       "    <tr>\n",
       "      <th>Spends (In bn GBP)</th>\n",
       "      <td>-0.861052</td>\n",
       "      <td>0.950874</td>\n",
       "      <td>1.000000</td>\n",
       "    </tr>\n",
       "  </tbody>\n",
       "</table>\n",
       "</div>"
      ],
      "text/plain": [
       "                                 Avg. Temperature (In C)  \\\n",
       "Avg. Temperature (In C)                         1.000000   \n",
       "Social Activities/Festivals (%)                -0.864875   \n",
       "Spends (In bn GBP)                             -0.861052   \n",
       "\n",
       "                                 Social Activities/Festivals (%)  \\\n",
       "Avg. Temperature (In C)                                -0.864875   \n",
       "Social Activities/Festivals (%)                         1.000000   \n",
       "Spends (In bn GBP)                                      0.950874   \n",
       "\n",
       "                                 Spends (In bn GBP)  \n",
       "Avg. Temperature (In C)                   -0.861052  \n",
       "Social Activities/Festivals (%)            0.950874  \n",
       "Spends (In bn GBP)                         1.000000  "
      ]
     },
     "execution_count": 42,
     "metadata": {},
     "output_type": "execute_result"
    }
   ],
   "source": [
    "retail.corr()"
   ]
  },
  {
   "cell_type": "code",
   "execution_count": 41,
   "id": "c9e2cd0d",
   "metadata": {},
   "outputs": [
    {
     "data": {
      "text/plain": [
       "<AxesSubplot:xlabel='Social Activities/Festivals (%)', ylabel='Spends (In bn GBP)'>"
      ]
     },
     "execution_count": 41,
     "metadata": {},
     "output_type": "execute_result"
    },
    {
     "data": {
      "image/png": "[encoded data removed]",
      "text/plain": [
       "<Figure size 432x288 with 1 Axes>"
      ]
     },
     "metadata": {
      "needs_background": "light"
     },
     "output_type": "display_data"
    }
   ],
   "source": [
    "retail.plot.scatter(x='Social Activities/Festivals (%)',y='Spends (In bn GBP)')"
   ]
  },
  {
   "cell_type": "code",
   "execution_count": 43,
   "id": "8ca36129",
   "metadata": {},
   "outputs": [
    {
     "data": {
      "text/plain": [
       "<AxesSubplot:xlabel='Avg. Temperature (In C)', ylabel='Spends (In bn GBP)'>"
      ]
     },
     "execution_count": 43,
     "metadata": {},
     "output_type": "execute_result"
    },
    {
     "data": {
      "image/png": "[encoded data removed]",
      "text/plain": [
       "<Figure size 432x288 with 1 Axes>"
      ]
     },
     "metadata": {
      "needs_background": "light"
     },
     "output_type": "display_data"
    }
   ],
   "source": [
    "retail.plot.scatter(x='Avg. Temperature (In C)', y='Spends (In bn GBP)')"
   ]
  },
  {
   "cell_type": "code",
   "execution_count": 1,
   "id": "423fd3e7",
   "metadata": {},
   "outputs": [],
   "source": [
    "import pandas as pd\n",
    "import numpy as np\n",
    "import scipy as sp"
   ]
  },
  {
   "cell_type": "code",
   "execution_count": 5,
   "id": "8b1bc776",
   "metadata": {},
   "outputs": [
    {
     "data": {
      "text/plain": [
       "array([[1, 0],\n",
       "       [0, 1]])"
      ]
     },
     "execution_count": 5,
     "metadata": {},
     "output_type": "execute_result"
    }
   ],
   "source": [
    "np.eye(2, dtype='int')"
   ]
  },
  {
   "cell_type": "code",
   "execution_count": 12,
   "id": "228a3ef5",
   "metadata": {},
   "outputs": [
    {
     "data": {
      "text/plain": [
       "array([1, 0, 1, 0, 1, 0, 1, 0])"
      ]
     },
     "execution_count": 12,
     "metadata": {},
     "output_type": "execute_result"
    }
   ],
   "source": [
    "np.tile([1,0],4)"
   ]
  },
  {
   "cell_type": "code",
   "execution_count": 15,
   "id": "73739df9",
   "metadata": {},
   "outputs": [
    {
     "data": {
      "text/plain": [
       "array([1, 0, 1, 0, 1, 0, 1, 0])"
      ]
     },
     "execution_count": 15,
     "metadata": {},
     "output_type": "execute_result"
    }
   ],
   "source": [
    "np.tile([1,0],4)"
   ]
  },
  {
   "cell_type": "code",
   "execution_count": 17,
   "id": "221533b5",
   "metadata": {},
   "outputs": [
    {
     "data": {
      "text/plain": [
       "array([[0, 1, 0, 1],\n",
       "       [1, 0, 1, 0]])"
      ]
     },
     "execution_count": 17,
     "metadata": {},
     "output_type": "execute_result"
    }
   ],
   "source": [
    "np.tile(np.array([[0,1],[1,0]]),2)"
   ]
  },
  {
   "cell_type": "code",
   "execution_count": 18,
   "id": "b805155b",
   "metadata": {},
   "outputs": [
    {
     "name": "stdout",
     "output_type": "stream",
     "text": [
      "4\n",
      "[[0 1 0 1]\n",
      " [1 0 1 0]\n",
      " [0 1 0 1]\n",
      " [1 0 1 0]]\n"
     ]
    }
   ],
   "source": [
    "# For a video solution of the code, copy-paste the following link in your browser:\n",
    "# https://youtu.be/cak6Y6yN4AU\n",
    "\n",
    "# Read the variable from STDIN\n",
    "n = int(input())\n",
    "\n",
    "import numpy as np\n",
    "\n",
    "# Create the smallest unit of a checkerboard matrix\n",
    "x = np.array([[0, 1], [1, 0]])\n",
    "\n",
    "# Create a checkerboard matrix of size n*n using the tile() function. We use n//2 \n",
    "# since the smallest unit of a checkerboard matrix is already of size 2*2. So, for \n",
    "# creating a larger matrix, say, of size 8, we need to replicate it using the tile()\n",
    "# function 4 times as it will then give a matrix of size 8*8.\n",
    "check = np.tile(x, (n//2, n//2))\n",
    "\n",
    "# Print the created matrix\n",
    "print(check)"
   ]
  },
  {
   "cell_type": "code",
   "execution_count": 19,
   "id": "1ac7109b",
   "metadata": {},
   "outputs": [
    {
     "data": {
      "text/plain": [
       "array([[0, 1],\n",
       "       [1, 0]])"
      ]
     },
     "execution_count": 19,
     "metadata": {},
     "output_type": "execute_result"
    }
   ],
   "source": [
    "np.array([[0,1],[1,0]])"
   ]
  },
  {
   "cell_type": "code",
   "execution_count": 20,
   "id": "a12b9ab0",
   "metadata": {},
   "outputs": [
    {
     "data": {
      "text/plain": [
       "array([[0, 1, 0, 1],\n",
       "       [1, 0, 1, 0],\n",
       "       [0, 1, 0, 1],\n",
       "       [1, 0, 1, 0]])"
      ]
     },
     "execution_count": 20,
     "metadata": {},
     "output_type": "execute_result"
    }
   ],
   "source": [
    "np.tile(np.array([[0,1],[1,0]]),(2,2))"
   ]
  },
  {
   "cell_type": "code",
   "execution_count": 22,
   "id": "3aaff991",
   "metadata": {},
   "outputs": [
    {
     "data": {
      "text/plain": [
       "array([[0, 1, 0, 1],\n",
       "       [0, 1, 0, 1]])"
      ]
     },
     "execution_count": 22,
     "metadata": {},
     "output_type": "execute_result"
    }
   ],
   "source": [
    "np.tile([0,1],(2,2))"
   ]
  },
  {
   "cell_type": "code",
   "execution_count": null,
   "id": "92f33503",
   "metadata": {},
   "outputs": [],
   "source": []
  }
 ],
 "metadata": {
  "kernelspec": {
   "display_name": "Python 3",
   "language": "python",
   "name": "python3"
  },
  "language_info": {
   "codemirror_mode": {
    "name": "ipython",
    "version": 3
   },
   "file_extension": ".py",
   "mimetype": "text/x-python",
   "name": "python",
   "nbconvert_exporter": "python",
   "pygments_lexer": "ipython3",
   "version": "3.8.8"
  }
 },
 "nbformat": 4,
 "nbformat_minor": 5
}
